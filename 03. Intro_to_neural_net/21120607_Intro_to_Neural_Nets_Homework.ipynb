{
  "cells": [
    {
      "cell_type": "code",
      "execution_count": null,
      "metadata": {
        "id": "wDlWLbfkJtvu"
      },
      "outputs": [],
      "source": [
        "#@title Copyright 2020 Google LLC. Double-click here for license information.\n",
        "# Licensed under the Apache License, Version 2.0 (the \"License\");\n",
        "# you may not use this file except in compliance with the License.\n",
        "# You may obtain a copy of the License at\n",
        "#\n",
        "# https://www.apache.org/licenses/LICENSE-2.0\n",
        "#\n",
        "# Unless required by applicable law or agreed to in writing, software\n",
        "# distributed under the License is distributed on an \"AS IS\" BASIS,\n",
        "# WITHOUT WARRANTIES OR CONDITIONS OF ANY KIND, either express or implied.\n",
        "# See the License for the specific language governing permissions and\n",
        "# limitations under the License."
      ]
    },
    {
      "cell_type": "markdown",
      "metadata": {
        "id": "T4r2z30vJSbA"
      },
      "source": [
        "# Colabs\n",
        "\n",
        "Machine Learning Crash Course uses Colaboratories (Colabs) for all programming exercises. Colab is Google's implementation of [Jupyter Notebook](https://jupyter.org/). For more information about Colabs and how to use them, go to [Welcome to Colaboratory](https://research.google.com/colaboratory)."
      ]
    },
    {
      "cell_type": "markdown",
      "metadata": {
        "id": "TL5y5fY9Jy_x"
      },
      "source": [
        "# Introduction to Neural Nets\n",
        "\n",
        "This Colab builds a deep neural network to perform more sophisticated linear regression than the earlier Colabs."
      ]
    },
    {
      "cell_type": "markdown",
      "metadata": {
        "id": "7RDY3EeAluPd"
      },
      "source": [
        "## Learning Objectives:\n",
        "\n",
        "After doing this Colab, you'll know how to do the following:\n",
        "\n",
        "  * Create a simple deep neural network.\n",
        "  * Tune the hyperparameters for a simple deep neural network."
      ]
    },
    {
      "cell_type": "markdown",
      "metadata": {
        "id": "XGj0PNaJlubZ"
      },
      "source": [
        "## The Dataset\n",
        "  \n",
        "Like several of the previous Colabs, this Colab uses the [California Housing Dataset](https://developers.google.com/machine-learning/crash-course/california-housing-data-description)."
      ]
    },
    {
      "cell_type": "markdown",
      "metadata": {
        "id": "xchnxAsaKKqO"
      },
      "source": [
        "## Import relevant modules\n",
        "\n",
        "The following hidden code cell imports the necessary code to run the code in the rest of this Colaboratory."
      ]
    },
    {
      "cell_type": "code",
      "execution_count": null,
      "metadata": {
        "id": "9n9_cTveKmse",
        "colab": {
          "base_uri": "https://localhost:8080/"
        },
        "outputId": "79f11551-3eb2-45f3-dff8-1683acb7ea25"
      },
      "outputs": [
        {
          "output_type": "stream",
          "name": "stdout",
          "text": [
            "Imported modules.\n"
          ]
        }
      ],
      "source": [
        "#@title Import relevant modules\n",
        "import numpy as np\n",
        "import pandas as pd\n",
        "import tensorflow as tf\n",
        "from matplotlib import pyplot as plt\n",
        "import seaborn as sns\n",
        "\n",
        "# The following lines adjust the granularity of reporting.\n",
        "pd.options.display.max_rows = 10\n",
        "pd.options.display.float_format = \"{:.1f}\".format\n",
        "\n",
        "print(\"Imported modules.\")"
      ]
    },
    {
      "cell_type": "markdown",
      "metadata": {
        "id": "X_TaJhU4KcuY"
      },
      "source": [
        "## Load the dataset\n",
        "\n",
        "Like most of the previous Colab exercises, this exercise uses the California Housing Dataset.  The following code cell loads the separate .csv files and creates the following two pandas DataFrames:\n",
        "\n",
        "* `train_df`, which contains the training set\n",
        "* `test_df`, which contains the test set\n",
        "   "
      ]
    },
    {
      "cell_type": "code",
      "execution_count": null,
      "metadata": {
        "id": "JZlvdpyYKx7V"
      },
      "outputs": [],
      "source": [
        "train_df = pd.read_csv(\"https://download.mlcc.google.com/mledu-datasets/california_housing_train.csv\")\n",
        "train_df = train_df.reindex(np.random.permutation(train_df.index)) # shuffle the examples\n",
        "test_df = pd.read_csv(\"https://download.mlcc.google.com/mledu-datasets/california_housing_test.csv\")"
      ]
    },
    {
      "cell_type": "markdown",
      "metadata": {
        "id": "b9ehCgIRjTxy"
      },
      "source": [
        "## Represent data\n",
        "\n",
        "The following code cell creates preprocessing layers outputting three features:\n",
        "\n",
        "* `latitude` X `longitude` (a feature cross)\n",
        "* `median_income`\n",
        "* `population`\n",
        "\n",
        "This code cell specifies the features that you'll ultimately train the model on and how each of those features will be represented. The transformations (collected in `prepocessing_layers`) don't actually get applied until you pass a DataFrame to it, which will happen when we train the model.\n",
        "\n",
        "We'll use `preprocessing_layers` for both our linear regression model and our neural network model.\n",
        "\n",
        "(The [`keras.FeatureSpace`](https://keras.io/examples/structured_data/structured_data_classification_with_feature_space) utility offers an alternative to building individual Keras preprocessing layers -- give it a try, if you're feeling adventurous!)"
      ]
    },
    {
      "cell_type": "code",
      "execution_count": null,
      "metadata": {
        "id": "8EkNAQhnjSu-",
        "colab": {
          "base_uri": "https://localhost:8080/"
        },
        "outputId": "a43a116b-21e1-4cd4-89dc-cc620186f529"
      },
      "outputs": [
        {
          "output_type": "stream",
          "name": "stdout",
          "text": [
            "Preprocessing layers defined.\n"
          ]
        }
      ],
      "source": [
        "# Keras Input tensors of float values.\n",
        "inputs = {\n",
        "    'latitude':\n",
        "        tf.keras.layers.Input(shape=(1,), dtype=tf.float32,\n",
        "                              name='latitude'),\n",
        "    'longitude':\n",
        "        tf.keras.layers.Input(shape=(1,), dtype=tf.float32,\n",
        "                              name='longitude'),\n",
        "    'median_income':\n",
        "        tf.keras.layers.Input(shape=(1,), dtype=tf.float32,\n",
        "                              name='median_income'),\n",
        "    'population':\n",
        "        tf.keras.layers.Input(shape=(1,), dtype=tf.float32,\n",
        "                              name='population')\n",
        "}\n",
        "\n",
        "# Create a Normalization layer to normalize the median_income data.\n",
        "median_income = tf.keras.layers.Normalization(\n",
        "    name='normalization_median_income',\n",
        "    axis=None)\n",
        "median_income.adapt(train_df['median_income'])\n",
        "median_income = median_income(inputs.get('median_income'))\n",
        "\n",
        "# Create a Normalization layer to normalize the population data.\n",
        "population = tf.keras.layers.Normalization(\n",
        "    name='normalization_population',\n",
        "    axis=None)\n",
        "population.adapt(train_df['population'])\n",
        "population = population(inputs.get('population'))\n",
        "\n",
        "# Create a list of numbers representing the bucket boundaries for latitude.\n",
        "# Because we're using a Normalization layer, values for latitude and longitude\n",
        "# will be in the range of approximately -3 to 3 (representing the Z score).\n",
        "# We'll create 20 buckets, which requires 21 bucket boundaries (hence, 20+1).\n",
        "latitude_boundaries = np.linspace(-3, 3, 20+1)\n",
        "\n",
        "# Create a Normalization layer to normalize the latitude data.\n",
        "latitude = tf.keras.layers.Normalization(\n",
        "    name='normalization_latitude',\n",
        "    axis=None)\n",
        "latitude.adapt(train_df['latitude'])\n",
        "latitude = latitude(inputs.get('latitude'))\n",
        "\n",
        "# Create a Discretization layer to separate the latitude data into buckets.\n",
        "latitude = tf.keras.layers.Discretization(\n",
        "    bin_boundaries=latitude_boundaries,\n",
        "    name='discretization_latitude')(latitude)\n",
        "\n",
        "# Create a list of numbers representing the bucket boundaries for longitude.\n",
        "longitude_boundaries = np.linspace(-3, 3, 20+1)\n",
        "\n",
        "# Create a Normalization layer to normalize the longitude data.\n",
        "longitude = tf.keras.layers.Normalization(\n",
        "    name='normalization_longitude',\n",
        "    axis=None)\n",
        "longitude.adapt(train_df['longitude'])\n",
        "longitude = longitude(inputs.get('longitude'))\n",
        "\n",
        "# Create a Discretization layer to separate the longitude data into buckets.\n",
        "longitude = tf.keras.layers.Discretization(\n",
        "    bin_boundaries=longitude_boundaries,\n",
        "    name='discretization_longitude')(longitude)\n",
        "\n",
        "# Cross the latitude and longitude features into a single one-hot vector.\n",
        "feature_cross = tf.keras.layers.HashedCrossing(\n",
        "    # num_bins can be adjusted: Higher values improve accuracy, lower values\n",
        "    # improve performance.\n",
        "    num_bins=len(latitude_boundaries) * len(longitude_boundaries),\n",
        "    output_mode='one_hot',\n",
        "    name='cross_latitude_longitude')([latitude, longitude])\n",
        "\n",
        "# Concatenate our inputs into a single tensor.\n",
        "preprocessing_layers = tf.keras.layers.Concatenate()(\n",
        "    [feature_cross, median_income, population])\n",
        "\n",
        "print(\"Preprocessing layers defined.\")"
      ]
    },
    {
      "cell_type": "markdown",
      "metadata": {
        "id": "Ak_TMAzGOIFq"
      },
      "source": [
        "## Build a linear regression model as a baseline\n",
        "\n",
        "Before creating a deep neural net, find a [baseline](https://developers.google.com/machine-learning/glossary/#baseline) loss by running a simple linear regression model that uses the preprocessing layers you just created.\n"
      ]
    },
    {
      "cell_type": "code",
      "execution_count": null,
      "metadata": {
        "id": "QF0BFRXTOeR3",
        "colab": {
          "base_uri": "https://localhost:8080/"
        },
        "outputId": "b6e569b0-97d6-4807-ca1c-f407bb23a600"
      },
      "outputs": [
        {
          "output_type": "stream",
          "name": "stdout",
          "text": [
            "Defined the plot_the_loss_curve function.\n"
          ]
        }
      ],
      "source": [
        "#@title Define the plotting function.\n",
        "\n",
        "def plot_the_loss_curve(epochs, mse_training, mse_validation):\n",
        "  \"\"\"Plot a curve of loss vs. epoch.\"\"\"\n",
        "\n",
        "  plt.figure()\n",
        "  plt.xlabel(\"Epoch\")\n",
        "  plt.ylabel(\"Mean Squared Error\")\n",
        "\n",
        "  plt.plot(epochs, mse_training, label=\"Training Loss\")\n",
        "  plt.plot(epochs, mse_validation, label=\"Validation Loss\")\n",
        "\n",
        "  # mse_training is a pandas Series, so convert it to a list first.\n",
        "  merged_mse_lists = mse_training.tolist() + mse_validation\n",
        "  highest_loss = max(merged_mse_lists)\n",
        "  lowest_loss = min(merged_mse_lists)\n",
        "  top_of_y_axis = highest_loss * 1.03\n",
        "  bottom_of_y_axis = lowest_loss * 0.97\n",
        "\n",
        "  plt.ylim([bottom_of_y_axis, top_of_y_axis])\n",
        "  plt.legend()\n",
        "  plt.show()\n",
        "\n",
        "print(\"Defined the plot_the_loss_curve function.\")"
      ]
    },
    {
      "cell_type": "code",
      "execution_count": null,
      "metadata": {
        "id": "RW4Qe710LgnG",
        "colab": {
          "base_uri": "https://localhost:8080/"
        },
        "outputId": "5faf3869-5817-4767-994b-6947c3756398"
      },
      "outputs": [
        {
          "output_type": "stream",
          "name": "stdout",
          "text": [
            "Defined the create_model and train_model functions.\n"
          ]
        }
      ],
      "source": [
        "#@title Define functions to create and train a linear regression model\n",
        "def create_model(my_inputs, my_outputs, my_learning_rate):\n",
        "  \"\"\"Create and compile a simple linear regression model.\"\"\"\n",
        "  model = tf.keras.Model(inputs=my_inputs, outputs=my_outputs)\n",
        "\n",
        "  # Construct the layers into a model that TensorFlow can execute.\n",
        "  model.compile(optimizer=tf.keras.optimizers.Adam(\n",
        "      learning_rate=my_learning_rate),\n",
        "      loss=\"mean_squared_error\",\n",
        "      metrics=[tf.keras.metrics.MeanSquaredError()])\n",
        "\n",
        "  return model\n",
        "\n",
        "\n",
        "def train_model(model, dataset, epochs, batch_size, label_name, validation_split=0.1):\n",
        "  \"\"\"Feed a dataset into the model in order to train it.\"\"\"\n",
        "\n",
        "  # Split the dataset into features and label.\n",
        "  features = {name:np.array(value) for name, value in dataset.items()}\n",
        "  label = train_median_house_value_normalized(\n",
        "      np.array(features.pop(label_name)))\n",
        "  history = model.fit(x=features, y=label, batch_size=batch_size,\n",
        "                      epochs=epochs, shuffle=True, validation_split=validation_split)\n",
        "\n",
        "  # Get details that will be useful for plotting the loss curve.\n",
        "  epochs = history.epoch\n",
        "  hist = pd.DataFrame(history.history)\n",
        "  mse = hist[\"mean_squared_error\"]\n",
        "\n",
        "  return epochs, mse, history.history\n",
        "\n",
        "print(\"Defined the create_model and train_model functions.\")"
      ]
    },
    {
      "cell_type": "code",
      "execution_count": null,
      "metadata": {
        "id": "avKFnYf8RMyU"
      },
      "outputs": [],
      "source": [
        "#@title Define normalized label columns\n",
        "# Create Normalization layers to normalize the median_house_value data.\n",
        "# Because median_house_value is our label (i.e., the target value we're\n",
        "# predicting), these layers won't be added to our model.\n",
        "train_median_house_value_normalized = tf.keras.layers.Normalization(axis=None)\n",
        "train_median_house_value_normalized.adapt(\n",
        "    np.array(train_df['median_house_value']))\n",
        "\n",
        "test_median_house_value_normalized = tf.keras.layers.Normalization(axis=None)\n",
        "test_median_house_value_normalized.adapt(\n",
        "    np.array(test_df['median_house_value']))\n"
      ]
    },
    {
      "cell_type": "code",
      "execution_count": null,
      "metadata": {
        "id": "v8JfAtFArOWq"
      },
      "outputs": [],
      "source": [
        "#@title Define linear regression model outputs\n",
        "def get_outputs_linear_regression():\n",
        "  # Create the Dense output layer.\n",
        "  dense_output = tf.keras.layers.Dense(units=1,\n",
        "                              name='dense_output')(preprocessing_layers)\n",
        "\n",
        "  # Define an output dictionary we'll send to the model constructor.\n",
        "  outputs = {\n",
        "    'dense_output': dense_output\n",
        "  }\n",
        "  return outputs"
      ]
    },
    {
      "cell_type": "markdown",
      "metadata": {
        "id": "f47LmxF5X_pu"
      },
      "source": [
        "Run the following code cell to invoke the functions defined in the preceding two code cells. (Ignore the warning messages.)\n",
        "\n",
        "**Note:** Because we've scaled all the input data, **including the label**, the resulting loss values will be *much less* than models in previous Colabs (e.g., [Representation with a Feature Cross](https://colab.sandbox.google.com/github/google/eng-edu/blob/main/ml/cc/exercises/representation_with_a_feature_cross.ipynb)).\n",
        "\n",
        "**Note:** Depending on the version of TensorFlow, running this cell might generate WARNING messages. Please ignore these warnings."
      ]
    },
    {
      "cell_type": "code",
      "execution_count": null,
      "metadata": {
        "id": "tsfE4ujDL4ju",
        "colab": {
          "base_uri": "https://localhost:8080/",
          "height": 1000
        },
        "outputId": "003ea5c1-0fe1-45d6-cac0-029acc2006b5"
      },
      "outputs": [
        {
          "output_type": "stream",
          "name": "stdout",
          "text": [
            "Epoch 1/15\n"
          ]
        },
        {
          "output_type": "stream",
          "name": "stderr",
          "text": [
            "/usr/local/lib/python3.10/dist-packages/keras/src/engine/functional.py:642: UserWarning: Input dict contained keys ['housing_median_age', 'total_rooms', 'total_bedrooms', 'households'] which did not match any model input. They will be ignored by the model.\n",
            "  inputs = self._flatten_to_reference_inputs(inputs)\n"
          ]
        },
        {
          "output_type": "stream",
          "name": "stdout",
          "text": [
            "14/14 [==============================] - 1s 47ms/step - loss: 0.8439 - mean_squared_error: 0.8439 - val_loss: 0.6919 - val_mean_squared_error: 0.6919\n",
            "Epoch 2/15\n",
            "14/14 [==============================] - 0s 13ms/step - loss: 0.6087 - mean_squared_error: 0.6087 - val_loss: 0.5194 - val_mean_squared_error: 0.5194\n",
            "Epoch 3/15\n",
            "14/14 [==============================] - 0s 14ms/step - loss: 0.4669 - mean_squared_error: 0.4669 - val_loss: 0.4229 - val_mean_squared_error: 0.4229\n",
            "Epoch 4/15\n",
            "14/14 [==============================] - 0s 13ms/step - loss: 0.3939 - mean_squared_error: 0.3939 - val_loss: 0.3776 - val_mean_squared_error: 0.3776\n",
            "Epoch 5/15\n",
            "14/14 [==============================] - 0s 16ms/step - loss: 0.3610 - mean_squared_error: 0.3610 - val_loss: 0.3590 - val_mean_squared_error: 0.3590\n",
            "Epoch 6/15\n",
            "14/14 [==============================] - 0s 15ms/step - loss: 0.3488 - mean_squared_error: 0.3488 - val_loss: 0.3511 - val_mean_squared_error: 0.3511\n",
            "Epoch 7/15\n",
            "14/14 [==============================] - 0s 14ms/step - loss: 0.3430 - mean_squared_error: 0.3430 - val_loss: 0.3478 - val_mean_squared_error: 0.3478\n",
            "Epoch 8/15\n",
            "14/14 [==============================] - 0s 12ms/step - loss: 0.3405 - mean_squared_error: 0.3405 - val_loss: 0.3461 - val_mean_squared_error: 0.3461\n",
            "Epoch 9/15\n",
            "14/14 [==============================] - 0s 17ms/step - loss: 0.3389 - mean_squared_error: 0.3389 - val_loss: 0.3448 - val_mean_squared_error: 0.3448\n",
            "Epoch 10/15\n",
            "14/14 [==============================] - 0s 17ms/step - loss: 0.3381 - mean_squared_error: 0.3381 - val_loss: 0.3445 - val_mean_squared_error: 0.3445\n",
            "Epoch 11/15\n",
            "14/14 [==============================] - 0s 12ms/step - loss: 0.3371 - mean_squared_error: 0.3371 - val_loss: 0.3432 - val_mean_squared_error: 0.3432\n",
            "Epoch 12/15\n",
            "14/14 [==============================] - 0s 10ms/step - loss: 0.3365 - mean_squared_error: 0.3365 - val_loss: 0.3434 - val_mean_squared_error: 0.3434\n",
            "Epoch 13/15\n",
            "14/14 [==============================] - 0s 9ms/step - loss: 0.3359 - mean_squared_error: 0.3359 - val_loss: 0.3425 - val_mean_squared_error: 0.3425\n",
            "Epoch 14/15\n",
            "14/14 [==============================] - 0s 9ms/step - loss: 0.3356 - mean_squared_error: 0.3356 - val_loss: 0.3423 - val_mean_squared_error: 0.3423\n",
            "Epoch 15/15\n",
            "14/14 [==============================] - 0s 10ms/step - loss: 0.3357 - mean_squared_error: 0.3357 - val_loss: 0.3425 - val_mean_squared_error: 0.3425\n"
          ]
        },
        {
          "output_type": "display_data",
          "data": {
            "text/plain": [
              "<Figure size 640x480 with 1 Axes>"
            ],
            "image/png": "[encoded data removed]"
          },
          "metadata": {}
        },
        {
          "output_type": "stream",
          "name": "stdout",
          "text": [
            "\n",
            " Evaluate the linear regression model against the test set:\n",
            "3/3 [==============================] - 0s 7ms/step - loss: 0.3604 - mean_squared_error: 0.3604\n"
          ]
        },
        {
          "output_type": "execute_result",
          "data": {
            "text/plain": [
              "{'loss': 0.3603675663471222, 'mean_squared_error': 0.3603675663471222}"
            ]
          },
          "metadata": {},
          "execution_count": 8
        }
      ],
      "source": [
        "# The following variables are the hyperparameters.\n",
        "learning_rate = 0.01\n",
        "epochs = 15\n",
        "batch_size = 1000\n",
        "label_name = \"median_house_value\"\n",
        "\n",
        "# Split the original training set into a reduced training set and a\n",
        "# validation set.\n",
        "validation_split = 0.2\n",
        "\n",
        "outputs = get_outputs_linear_regression()\n",
        "\n",
        "# Establish the model's topography.\n",
        "my_model = create_model(inputs, outputs, learning_rate)\n",
        "\n",
        "# Train the model on the normalized training set.\n",
        "epochs, mse, history = train_model(my_model, train_df, epochs, batch_size,\n",
        "                          label_name, validation_split)\n",
        "plot_the_loss_curve(epochs, mse, history[\"val_mean_squared_error\"])\n",
        "\n",
        "test_features = {name:np.array(value) for name, value in test_df.items()}\n",
        "test_label = test_median_house_value_normalized(test_features.pop(label_name)) # isolate the label\n",
        "print(\"\\n Evaluate the linear regression model against the test set:\")\n",
        "my_model.evaluate(x = test_features, y = test_label, batch_size=batch_size, return_dict=True)"
      ]
    },
    {
      "cell_type": "markdown",
      "metadata": {
        "id": "3014ezH3C7jT"
      },
      "source": [
        "## Define a deep neural net model\n",
        "\n",
        "The `get_outputs_dnn` function defines the topography of the deep neural net (DNN), specifying the following:\n",
        "\n",
        "* The number of [layers](https://developers.google.com/machine-learning/glossary/#layer) in the deep neural net.\n",
        "* The number of [nodes](https://developers.google.com/machine-learning/glossary/#node) in each layer.\n",
        "\n",
        "The `get_outputs_dnn` function also defines the [activation function](https://developers.google.com/machine-learning/glossary/#activation_function) of each layer.\n",
        "\n",
        "The first `Dense` layer takes our previously defined `preprocessing_layers` as input."
      ]
    },
    {
      "cell_type": "code",
      "execution_count": null,
      "metadata": {
        "id": "pedD5GhlDC-y"
      },
      "outputs": [],
      "source": [
        "def get_outputs_dnn():\n",
        "  # Create a Dense layer with 20 nodes.\n",
        "  dense_output = tf.keras.layers.Dense(units=20,\n",
        "                              activation='relu',\n",
        "                              name='hidden_dense_layer_1')(preprocessing_layers)\n",
        "  # Create a Dense layer with 12 nodes.\n",
        "  dense_output = tf.keras.layers.Dense(units=12,\n",
        "                              activation='relu',\n",
        "                              name='hidden_dense_layer_2')(dense_output)\n",
        "  # Create the Dense output layer.\n",
        "  dense_output = tf.keras.layers.Dense(units=1,\n",
        "                              name='dense_output')(dense_output)\n",
        "\n",
        "  # Define an output dictionary we'll send to the model constructor.\n",
        "  outputs = {\n",
        "    'dense_output': dense_output\n",
        "  }\n",
        "\n",
        "  return outputs"
      ]
    },
    {
      "cell_type": "markdown",
      "metadata": {
        "id": "D-IXYVfvM4gD"
      },
      "source": [
        "## Call the functions to build and train a deep neural net\n",
        "\n",
        "Okay, it is time to actually train the deep neural net.  If time permits, experiment with the three hyperparameters to see if you can reduce the loss\n",
        "against the test set.\n"
      ]
    },
    {
      "cell_type": "code",
      "execution_count": null,
      "metadata": {
        "cellView": "both",
        "id": "nj3v5EKQFY8s",
        "colab": {
          "base_uri": "https://localhost:8080/",
          "height": 1000
        },
        "outputId": "0394d45a-ea6d-4f5b-a46e-b9db1a269854"
      },
      "outputs": [
        {
          "output_type": "stream",
          "name": "stdout",
          "text": [
            "Epoch 1/20\n",
            "14/14 [==============================] - 1s 31ms/step - loss: 0.6550 - mean_squared_error: 0.6550 - val_loss: 0.4104 - val_mean_squared_error: 0.4104\n",
            "Epoch 2/20\n",
            "14/14 [==============================] - 0s 14ms/step - loss: 0.3691 - mean_squared_error: 0.3691 - val_loss: 0.3457 - val_mean_squared_error: 0.3457\n",
            "Epoch 3/20\n",
            "14/14 [==============================] - 0s 12ms/step - loss: 0.3339 - mean_squared_error: 0.3339 - val_loss: 0.3327 - val_mean_squared_error: 0.3327\n",
            "Epoch 4/20\n",
            "14/14 [==============================] - 0s 14ms/step - loss: 0.3271 - mean_squared_error: 0.3271 - val_loss: 0.3295 - val_mean_squared_error: 0.3295\n",
            "Epoch 5/20\n",
            "14/14 [==============================] - 0s 13ms/step - loss: 0.3244 - mean_squared_error: 0.3244 - val_loss: 0.3296 - val_mean_squared_error: 0.3296\n",
            "Epoch 6/20\n",
            "14/14 [==============================] - 0s 12ms/step - loss: 0.3232 - mean_squared_error: 0.3232 - val_loss: 0.3264 - val_mean_squared_error: 0.3264\n",
            "Epoch 7/20\n",
            "14/14 [==============================] - 0s 13ms/step - loss: 0.3211 - mean_squared_error: 0.3211 - val_loss: 0.3279 - val_mean_squared_error: 0.3279\n",
            "Epoch 8/20\n",
            "14/14 [==============================] - 0s 13ms/step - loss: 0.3208 - mean_squared_error: 0.3208 - val_loss: 0.3270 - val_mean_squared_error: 0.3270\n",
            "Epoch 9/20\n",
            "14/14 [==============================] - 0s 13ms/step - loss: 0.3199 - mean_squared_error: 0.3199 - val_loss: 0.3257 - val_mean_squared_error: 0.3257\n",
            "Epoch 10/20\n",
            "14/14 [==============================] - 0s 17ms/step - loss: 0.3176 - mean_squared_error: 0.3176 - val_loss: 0.3263 - val_mean_squared_error: 0.3263\n",
            "Epoch 11/20\n",
            "14/14 [==============================] - 0s 13ms/step - loss: 0.3170 - mean_squared_error: 0.3170 - val_loss: 0.3253 - val_mean_squared_error: 0.3253\n",
            "Epoch 12/20\n",
            "14/14 [==============================] - 0s 12ms/step - loss: 0.3166 - mean_squared_error: 0.3166 - val_loss: 0.3262 - val_mean_squared_error: 0.3262\n",
            "Epoch 13/20\n",
            "14/14 [==============================] - 0s 13ms/step - loss: 0.3154 - mean_squared_error: 0.3154 - val_loss: 0.3263 - val_mean_squared_error: 0.3263\n",
            "Epoch 14/20\n",
            "14/14 [==============================] - 0s 13ms/step - loss: 0.3162 - mean_squared_error: 0.3162 - val_loss: 0.3264 - val_mean_squared_error: 0.3264\n",
            "Epoch 15/20\n",
            "14/14 [==============================] - 0s 15ms/step - loss: 0.3154 - mean_squared_error: 0.3154 - val_loss: 0.3293 - val_mean_squared_error: 0.3293\n",
            "Epoch 16/20\n",
            "14/14 [==============================] - 0s 14ms/step - loss: 0.3162 - mean_squared_error: 0.3162 - val_loss: 0.3266 - val_mean_squared_error: 0.3266\n",
            "Epoch 17/20\n",
            "14/14 [==============================] - 0s 13ms/step - loss: 0.3143 - mean_squared_error: 0.3143 - val_loss: 0.3261 - val_mean_squared_error: 0.3261\n",
            "Epoch 18/20\n",
            "14/14 [==============================] - 0s 13ms/step - loss: 0.3136 - mean_squared_error: 0.3136 - val_loss: 0.3254 - val_mean_squared_error: 0.3254\n",
            "Epoch 19/20\n",
            "14/14 [==============================] - 0s 13ms/step - loss: 0.3139 - mean_squared_error: 0.3139 - val_loss: 0.3272 - val_mean_squared_error: 0.3272\n",
            "Epoch 20/20\n",
            "14/14 [==============================] - 0s 15ms/step - loss: 0.3158 - mean_squared_error: 0.3158 - val_loss: 0.3275 - val_mean_squared_error: 0.3275\n"
          ]
        },
        {
          "output_type": "display_data",
          "data": {
            "text/plain": [
              "<Figure size 640x480 with 1 Axes>"
            ],
            "image/png": "[encoded data removed]"
          },
          "metadata": {}
        },
        {
          "output_type": "stream",
          "name": "stdout",
          "text": [
            "\n",
            " Evaluate the new model against the test set:\n",
            "3/3 [==============================] - 0s 7ms/step - loss: 0.3479 - mean_squared_error: 0.3479\n"
          ]
        },
        {
          "output_type": "execute_result",
          "data": {
            "text/plain": [
              "{'loss': 0.3479344844818115, 'mean_squared_error': 0.3479344844818115}"
            ]
          },
          "metadata": {},
          "execution_count": 10
        }
      ],
      "source": [
        "# The following variables are the hyperparameters.\n",
        "learning_rate = 0.01\n",
        "epochs = 20\n",
        "batch_size = 1000\n",
        "\n",
        "# Specify the label\n",
        "label_name = \"median_house_value\"\n",
        "\n",
        "# Split the original training set into a reduced training set and a\n",
        "# validation set.\n",
        "validation_split = 0.2\n",
        "\n",
        "dnn_outputs = get_outputs_dnn()\n",
        "\n",
        "# Establish the model's topography.\n",
        "my_model = create_model(\n",
        "    inputs,\n",
        "    dnn_outputs,\n",
        "    learning_rate)\n",
        "\n",
        "# Train the model on the normalized training set. We're passing the entire\n",
        "# normalized training set, but the model will only use the features\n",
        "# defined in our inputs.\n",
        "epochs, mse, history = train_model(my_model, train_df, epochs,\n",
        "                                   batch_size, label_name, validation_split)\n",
        "plot_the_loss_curve(epochs, mse, history[\"val_mean_squared_error\"])\n",
        "\n",
        "# After building a model against the training set, test that model\n",
        "# against the test set.\n",
        "test_features = {name:np.array(value) for name, value in test_df.items()}\n",
        "test_label = test_median_house_value_normalized(np.array(test_features.pop(label_name))) # isolate the label\n",
        "print(\"\\n Evaluate the new model against the test set:\")\n",
        "my_model.evaluate(x = test_features, y = test_label, batch_size=batch_size, return_dict=True)"
      ]
    },
    {
      "cell_type": "markdown",
      "source": [],
      "metadata": {
        "id": "97iZUJy7x4yF"
      }
    },
    {
      "cell_type": "markdown",
      "metadata": {
        "id": "wlPXK-SmmjQ2"
      },
      "source": [
        "## Task 1: Compare the two models\n",
        "\n",
        "How did the deep neural net perform against the baseline linear regression model?"
      ]
    },
    {
      "cell_type": "code",
      "execution_count": null,
      "metadata": {
        "id": "hI7ojsL7nnBE"
      },
      "outputs": [],
      "source": [
        "#@title Double-click to view a possible answer\n",
        "\n",
        "# Assuming that the linear model converged and\n",
        "# the deep neural net model also converged, please\n",
        "# compare the test set loss for each.\n",
        "# In our experiments, the loss of the deep neural\n",
        "# network model was consistently lower than\n",
        "# that of the linear regression model, which\n",
        "# suggests that the deep neural network model\n",
        "# will make better predictions than the\n",
        "# linear regression model.\n"
      ]
    },
    {
      "cell_type": "markdown",
      "source": [
        "The loss of the linear regression  : 'loss': 0.3608711063861847\\\n",
        "The loss of the deep neural network model : 'loss': 0.3473809063434601\\\n",
        "That shows us the deep neural network model will make better gredictions than the linear regression model\n",
        "( 0,34 < 0.36 )\n",
        "\n",
        "\n",
        "\n",
        "\n",
        "\n",
        "\n"
      ],
      "metadata": {
        "id": "WOL8Qdb-ylG4"
      }
    },
    {
      "cell_type": "markdown",
      "metadata": {
        "id": "Y5IKmk7D49_n"
      },
      "source": [
        "## Task 2: Optimize the deep neural network's topography\n",
        "\n",
        "Experiment with the number of layers of the deep neural network and the number of nodes in each layer.  Aim to achieve both of the following goals:\n",
        "\n",
        "*  Lower the loss against the test set.\n",
        "*  Minimize the overall number of nodes in the deep neural net.\n",
        "\n",
        "The two goals may be in conflict."
      ]
    },
    {
      "cell_type": "code",
      "execution_count": null,
      "metadata": {
        "id": "wYG5qXpP5a9n"
      },
      "outputs": [],
      "source": [
        "#@title Double-click to view a possible answer\n",
        "\n",
        "# Many answers are possible.  We noticed the\n",
        "# following trends:\n",
        "#   * Two layers outperformed one layer, but\n",
        "#     three layers did not perform significantly\n",
        "#     better than two layers.\n",
        "#     In other words, two layers seemed best.\n",
        "#   * Setting the topography as follows produced\n",
        "#     reasonably good results with relatively few\n",
        "#     nodes:\n",
        "#       * 10 nodes in the first layer.\n",
        "#       *  6 nodes in the second layer.\n",
        "#     As the number of nodes in each layer dropped\n",
        "#     below the preceding, test loss increased.\n",
        "#     However, depending on your application, hardware\n",
        "#     constraints, and the relative pain inflicted\n",
        "#     by a less accurate model, a smaller network\n",
        "#     (for example, 6 nodes in the first layer and\n",
        "#     4 nodes in the second layer) might be\n",
        "#     acceptable."
      ]
    },
    {
      "cell_type": "markdown",
      "source": [
        "Optimize using two layers:\n",
        "+ 18 nodes in the first layer\n",
        "+ 10 nodes in the second layer\n",
        "\n",
        "new loss : 0.3451135754585266 < testcase loss : 0.3473809063434601"
      ],
      "metadata": {
        "id": "m-u8mhAS94zT"
      }
    },
    {
      "cell_type": "code",
      "source": [
        "def get_outputs_dnn_optimize():\n",
        "  # Create a Dense layer with 10 nodes.\n",
        "  dense_output = tf.keras.layers.Dense(units=18,\n",
        "                              activation='relu',\n",
        "                              name='hidden_dense_layer_1')(preprocessing_layers)\n",
        "  # Create a Dense layer with 6 nodes.\n",
        "  dense_output = tf.keras.layers.Dense(units=10,\n",
        "                              activation='relu',\n",
        "                              name='hidden_dense_layer_2')(dense_output)\n",
        "\n",
        "  # Create the Dense output layer.\n",
        "  dense_output = tf.keras.layers.Dense(units=1,\n",
        "                              name='dense_output')(dense_output)\n",
        "\n",
        "  # Define an output dictionary we'll send to the model constructor.\n",
        "  outputs = {\n",
        "    'dense_output': dense_output\n",
        "  }\n",
        "\n",
        "  return outputs"
      ],
      "metadata": {
        "id": "UR42Z7VHzo6i"
      },
      "execution_count": null,
      "outputs": []
    },
    {
      "cell_type": "code",
      "source": [
        "# The following variables are the hyperparameters.\n",
        "learning_rate = 0.01\n",
        "epochs = 20\n",
        "batch_size = 1000\n",
        "\n",
        "# Specify the label\n",
        "label_name = \"median_house_value\"\n",
        "\n",
        "# Split the original training set into a reduced training set and a\n",
        "# validation set.\n",
        "validation_split = 0.2\n",
        "\n",
        "dnn_outputs = get_outputs_dnn_optimize()\n",
        "\n",
        "# Establish the model's topography.\n",
        "my_model = create_model(\n",
        "    inputs,\n",
        "    dnn_outputs,\n",
        "    learning_rate)\n",
        "\n",
        "# Train the model on the normalized training set. We're passing the entire\n",
        "# normalized training set, but the model will only use the features\n",
        "# defined in our inputs.\n",
        "epochs, mse, history = train_model(my_model, train_df, epochs,\n",
        "                                   batch_size, label_name, validation_split)\n",
        "plot_the_loss_curve(epochs, mse, history[\"val_mean_squared_error\"])\n",
        "\n",
        "# After building a model against the training set, test that model\n",
        "# against the test set.\n",
        "test_features = {name:np.array(value) for name, value in test_df.items()}\n",
        "test_label = test_median_house_value_normalized(np.array(test_features.pop(label_name))) # isolate the label\n",
        "print(\"\\n Evaluate the new model against the test set:\")\n",
        "my_model.evaluate(x = test_features, y = test_label, batch_size=batch_size, return_dict=True)"
      ],
      "metadata": {
        "id": "NS72Mz-Mzw9Q",
        "colab": {
          "base_uri": "https://localhost:8080/",
          "height": 1000
        },
        "outputId": "718c2b57-5ecf-4f10-f2c1-4d6bcffdd606"
      },
      "execution_count": null,
      "outputs": [
        {
          "output_type": "stream",
          "name": "stdout",
          "text": [
            "Epoch 1/20\n",
            "14/14 [==============================] - 1s 32ms/step - loss: 0.7204 - mean_squared_error: 0.7204 - val_loss: 0.3673 - val_mean_squared_error: 0.3673\n",
            "Epoch 2/20\n",
            "14/14 [==============================] - 0s 13ms/step - loss: 0.3719 - mean_squared_error: 0.3719 - val_loss: 0.3489 - val_mean_squared_error: 0.3489\n",
            "Epoch 3/20\n",
            "14/14 [==============================] - 0s 13ms/step - loss: 0.3379 - mean_squared_error: 0.3379 - val_loss: 0.3352 - val_mean_squared_error: 0.3352\n",
            "Epoch 4/20\n",
            "14/14 [==============================] - 0s 13ms/step - loss: 0.3277 - mean_squared_error: 0.3277 - val_loss: 0.3298 - val_mean_squared_error: 0.3298\n",
            "Epoch 5/20\n",
            "14/14 [==============================] - 0s 12ms/step - loss: 0.3231 - mean_squared_error: 0.3231 - val_loss: 0.3296 - val_mean_squared_error: 0.3296\n",
            "Epoch 6/20\n",
            "14/14 [==============================] - 0s 14ms/step - loss: 0.3209 - mean_squared_error: 0.3209 - val_loss: 0.3256 - val_mean_squared_error: 0.3256\n",
            "Epoch 7/20\n",
            "14/14 [==============================] - 0s 13ms/step - loss: 0.3189 - mean_squared_error: 0.3189 - val_loss: 0.3243 - val_mean_squared_error: 0.3243\n",
            "Epoch 8/20\n",
            "14/14 [==============================] - 0s 13ms/step - loss: 0.3163 - mean_squared_error: 0.3163 - val_loss: 0.3219 - val_mean_squared_error: 0.3219\n",
            "Epoch 9/20\n",
            "14/14 [==============================] - 0s 12ms/step - loss: 0.3149 - mean_squared_error: 0.3149 - val_loss: 0.3211 - val_mean_squared_error: 0.3211\n",
            "Epoch 10/20\n",
            "14/14 [==============================] - 0s 15ms/step - loss: 0.3133 - mean_squared_error: 0.3133 - val_loss: 0.3206 - val_mean_squared_error: 0.3206\n",
            "Epoch 11/20\n",
            "14/14 [==============================] - 0s 13ms/step - loss: 0.3124 - mean_squared_error: 0.3124 - val_loss: 0.3195 - val_mean_squared_error: 0.3195\n",
            "Epoch 12/20\n",
            "14/14 [==============================] - 0s 11ms/step - loss: 0.3116 - mean_squared_error: 0.3116 - val_loss: 0.3200 - val_mean_squared_error: 0.3200\n",
            "Epoch 13/20\n",
            "14/14 [==============================] - 0s 16ms/step - loss: 0.3102 - mean_squared_error: 0.3102 - val_loss: 0.3201 - val_mean_squared_error: 0.3201\n",
            "Epoch 14/20\n",
            "14/14 [==============================] - 0s 13ms/step - loss: 0.3089 - mean_squared_error: 0.3089 - val_loss: 0.3175 - val_mean_squared_error: 0.3175\n",
            "Epoch 15/20\n",
            "14/14 [==============================] - 0s 14ms/step - loss: 0.3095 - mean_squared_error: 0.3095 - val_loss: 0.3188 - val_mean_squared_error: 0.3188\n",
            "Epoch 16/20\n",
            "14/14 [==============================] - 0s 12ms/step - loss: 0.3095 - mean_squared_error: 0.3095 - val_loss: 0.3200 - val_mean_squared_error: 0.3200\n",
            "Epoch 17/20\n",
            "14/14 [==============================] - 0s 11ms/step - loss: 0.3102 - mean_squared_error: 0.3102 - val_loss: 0.3190 - val_mean_squared_error: 0.3190\n",
            "Epoch 18/20\n",
            "14/14 [==============================] - 0s 13ms/step - loss: 0.3087 - mean_squared_error: 0.3087 - val_loss: 0.3177 - val_mean_squared_error: 0.3177\n",
            "Epoch 19/20\n",
            "14/14 [==============================] - 0s 13ms/step - loss: 0.3075 - mean_squared_error: 0.3075 - val_loss: 0.3183 - val_mean_squared_error: 0.3183\n",
            "Epoch 20/20\n",
            "14/14 [==============================] - 0s 13ms/step - loss: 0.3082 - mean_squared_error: 0.3082 - val_loss: 0.3171 - val_mean_squared_error: 0.3171\n"
          ]
        },
        {
          "output_type": "display_data",
          "data": {
            "text/plain": [
              "<Figure size 640x480 with 1 Axes>"
            ],
            "image/png": "[encoded data removed]"
          },
          "metadata": {}
        },
        {
          "output_type": "stream",
          "name": "stdout",
          "text": [
            "\n",
            " Evaluate the new model against the test set:\n",
            "3/3 [==============================] - 0s 8ms/step - loss: 0.3414 - mean_squared_error: 0.3414\n"
          ]
        },
        {
          "output_type": "execute_result",
          "data": {
            "text/plain": [
              "{'loss': 0.3414251208305359, 'mean_squared_error': 0.3414251208305359}"
            ]
          },
          "metadata": {},
          "execution_count": 12
        }
      ]
    },
    {
      "cell_type": "code",
      "source": [
        "from sklearn.metrics import mean_squared_error, mean_absolute_error, r2_score\n",
        "\n",
        "def regression_report(y_true, y_pred):\n",
        "    mse = mean_squared_error(y_true, y_pred)\n",
        "    mae = mean_absolute_error(y_true, y_pred)\n",
        "    r2 = r2_score(y_true, y_pred)\n",
        "\n",
        "    report = f\"MSE: {mse}\\nMAE: {mae}\\nR-squared: {r2}\"\n",
        "    return report\n",
        "\n",
        "# MSE: Mean Squared Error , MAE : Mean Absolute Error, R-squared (Coefficient of Determination)\n",
        "def generate_regression_report(model, test_features, test_label, batch_size):\n",
        "\n",
        "    predictions = model.predict(test_features, batch_size=batch_size)\n",
        "\n",
        "    predicted_values = predictions['dense_output']\n",
        "\n",
        "    report = regression_report(test_label, predicted_values)\n",
        "    return report\n",
        "\n",
        "\n",
        "report = generate_regression_report(my_model, test_features, test_label, batch_size)\n",
        "print(\"Regression Report:\")\n",
        "print(report)\n"
      ],
      "metadata": {
        "colab": {
          "base_uri": "https://localhost:8080/"
        },
        "id": "NrOP2HxTK0In",
        "outputId": "0c082540-634f-46d4-baec-779c302ce27a"
      },
      "execution_count": null,
      "outputs": [
        {
          "output_type": "stream",
          "name": "stdout",
          "text": [
            "3/3 [==============================] - 0s 9ms/step\n",
            "Regression Report:\n",
            "MSE: 0.3414250910282135\n",
            "MAE: 0.40448880195617676\n",
            "R-squared: 0.6585748861729501\n"
          ]
        }
      ]
    }
  ],
  "metadata": {
    "colab": {
      "provenance": []
    },
    "kernelspec": {
      "display_name": "Python 3",
      "name": "python3"
    }
  },
  "nbformat": 4,
  "nbformat_minor": 0
}