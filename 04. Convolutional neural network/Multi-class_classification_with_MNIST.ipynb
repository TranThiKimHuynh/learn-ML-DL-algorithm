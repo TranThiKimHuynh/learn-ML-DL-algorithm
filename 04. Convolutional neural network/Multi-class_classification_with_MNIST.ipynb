{
  "nbformat": 4,
  "nbformat_minor": 0,
  "metadata": {
    "colab": {
      "provenance": [],
      "gpuType": "T4"
    },
    "kernelspec": {
      "name": "python3",
      "display_name": "Python 3"
    },
    "accelerator": "GPU"
  },
  "cells": [
    {
      "cell_type": "code",
      "metadata": {
        "id": "wDlWLbfkJtvu"
      },
      "source": [
        "#@title Copyright 2020 Google LLC. Double-click here for license information.\n",
        "# Licensed under the Apache License, Version 2.0 (the \"License\");\n",
        "# you may not use this file except in compliance with the License.\n",
        "# You may obtain a copy of the License at\n",
        "#\n",
        "# https://www.apache.org/licenses/LICENSE-2.0\n",
        "#\n",
        "# Unless required by applicable law or agreed to in writing, software\n",
        "# distributed under the License is distributed on an \"AS IS\" BASIS,\n",
        "# WITHOUT WARRANTIES OR CONDITIONS OF ANY KIND, either express or implied.\n",
        "# See the License for the specific language governing permissions and\n",
        "# limitations under the License.\n",
        "\n",
        "# Yann LeCun and Corinna Cortes hold the copyright of MNIST dataset,\n",
        "# which is a derivative work from original NIST datasets.\n",
        "# MNIST dataset is made available under the terms of the\n",
        "# Creative Commons Attribution-Share Alike 3.0 license."
      ],
      "execution_count": null,
      "outputs": []
    },
    {
      "cell_type": "markdown",
      "metadata": {
        "id": "T4r2z30vJSbA"
      },
      "source": [
        "# Colabs\n",
        "\n",
        "Machine Learning Crash Course uses Colaboratories (Colabs) for all programming exercises. Colab is Google's implementation of [Jupyter Notebook](https://jupyter.org/). For more information about Colabs and how to use them, go to [Welcome to Colaboratory](https://research.google.com/colaboratory)."
      ]
    },
    {
      "cell_type": "markdown",
      "metadata": {
        "id": "TL5y5fY9Jy_x"
      },
      "source": [
        "# Multi-Class Classification\n",
        "\n",
        "This Colab explores multi-class classification problems through the classic MNIST dataset."
      ]
    },
    {
      "cell_type": "markdown",
      "metadata": {
        "id": "XuKlphuImFSN"
      },
      "source": [
        "## Learning Objectives:\n",
        "\n",
        "After doing this Colab, you'll know how to do the following:\n",
        "\n",
        "  * Understand the classic MNIST problem.\n",
        "  * Create a deep neural network that performs multi-class classification.\n",
        "  * Tune the deep neural network.\n",
        "\n",
        "This exercise introduces image classification with machine learning."
      ]
    },
    {
      "cell_type": "markdown",
      "metadata": {
        "id": "cxj8yVh4mFl5"
      },
      "source": [
        "## The Dataset\n",
        "  \n",
        "This MNIST dataset contains a lot of examples:\n",
        "\n",
        "* The MNIST training set contains 60,000 examples.\n",
        "* The MNIST test set contains 10,000 examples.\n",
        "\n",
        "Each example contains a pixel map showing how a person wrote a digit. For example, the following images shows how a person wrote the digit `1` and how that digit might be represented in a 14x14 pixel map (after the input data is normalized).\n",
        "\n",
        "![Two images. The first image shows a somewhat fuzzy digit one. The second image shows a 14x14 floating-point array in which most of the cells contain 0 but a few cells contain values between 0.0 and 1.0. The pattern of nonzero values corresponds to the image of the fuzzy digit in the first image.](https://www.tensorflow.org/images/MNIST-Matrix.png)\n",
        "\n",
        "Each example in the MNIST dataset consists of:\n",
        "\n",
        "* A label specified by a [rater](https://developers.google.com/machine-learning/glossary/#rater).  Each label must be an integer from 0 to 9.  For example, in the preceding image, the rater would almost certainly assign the label `1` to the example.\n",
        "* A 28x28 pixel map, where each pixel is an integer between 0 and 255. The pixel values are on a gray scale in which 0 represents white, 255 represents black, and values between 0 and 255 represent various shades of gray.  \n",
        "\n",
        "This is a multi-class classification problem with 10 output classes, one for each digit."
      ]
    },
    {
      "cell_type": "markdown",
      "metadata": {
        "id": "xchnxAsaKKqO"
      },
      "source": [
        "## Import relevant modules\n",
        "\n",
        "The following hidden code cell imports the necessary code to run the code in the rest of this Colaboratory."
      ]
    },
    {
      "cell_type": "code",
      "metadata": {
        "id": "9n9_cTveKmse"
      },
      "source": [
        "#@title Import relevant modules\n",
        "import numpy as np\n",
        "import pandas as pd\n",
        "import tensorflow as tf\n",
        "from tensorflow.keras import layers\n",
        "from matplotlib import pyplot as plt\n",
        "\n",
        "# The following lines adjust the granularity of reporting.\n",
        "pd.options.display.max_rows = 10\n",
        "pd.options.display.float_format = \"{:.1f}\".format\n",
        "\n",
        "# The following line improves formatting when ouputting NumPy arrays.\n",
        "np.set_printoptions(linewidth = 200)"
      ],
      "execution_count": 4,
      "outputs": []
    },
    {
      "cell_type": "markdown",
      "metadata": {
        "id": "X_TaJhU4KcuY"
      },
      "source": [
        "## Load the dataset\n",
        "\n",
        "`tf.keras` provides a set of convenience functions for loading well-known datasets. Each of these convenience functions does the following:\n",
        "\n",
        "* Loads both the training set and the test set.\n",
        "* Separates each set into features and labels.\n",
        "\n",
        "The relevant convenience function for MNIST is called `mnist.load_data()`:"
      ]
    },
    {
      "cell_type": "code",
      "metadata": {
        "id": "JZlvdpyYKx7V"
      },
      "source": [
        "(x_train, y_train),(x_test, y_test) = tf.keras.datasets.mnist.load_data()\n"
      ],
      "execution_count": 5,
      "outputs": []
    },
    {
      "cell_type": "markdown",
      "metadata": {
        "id": "SfQkr3hxJGXU"
      },
      "source": [
        "Notice that `mnist.load_data()` returned four separate values:\n",
        "\n",
        "* `x_train` contains the training set's features.\n",
        "* `y_train` contains the training set's labels.\n",
        "* `x_test` contains the test set's features.\n",
        "* `y_test` contains the test set's labels.\n",
        "\n",
        "**Note:** The MNIST .csv training set is already shuffled."
      ]
    },
    {
      "cell_type": "markdown",
      "metadata": {
        "id": "71vsSUM7pdmu"
      },
      "source": [
        "## View the dataset\n",
        "\n",
        "The .csv file for the California Housing Dataset contains column names (for example, `latitude`, `longitude`, `population`). By contrast, the .csv file for MNIST does not contain column names. Instead of column names, you use ordinal numbers to access different subsets of the MNIST dataset. In fact, it is probably best to think of `x_train` and `x_test` as two-dimensional NumPy arrays:  \n",
        "\n"
      ]
    },
    {
      "cell_type": "code",
      "metadata": {
        "id": "IoOhpjkeCL8Q",
        "colab": {
          "base_uri": "https://localhost:8080/",
          "height": 68
        },
        "outputId": "9e102f94-69de-4a74-bcef-3ac5e81e3d2a"
      },
      "source": [
        "# Output example #2917 of the training set.\n",
        "x_train[2917]"
      ],
      "execution_count": 6,
      "outputs": [
        {
          "output_type": "execute_result",
          "data": {
            "text/plain": [
              "array([[  0,   0,   0,   0,   0,   0,   0,   0,   0,   0,   0,   0,   0,   0,   0,   0,   0,   0,   0,   0,   0,   0,   0,   0,   0,   0,   0,   0],\n",
              "       [  0,   0,   0,   0,   0,   0,   0,   0,   0,   0,   0,   0,   0,   0,   0,   0,   0,   0,   0,   0,   0,   0,   0,   0,   0,   0,   0,   0],\n",
              "       [  0,   0,   0,   0,   0,   0,   0,   0,   0,   0,   0,   0,   0,   0,   0,   0,   0,   0,   0,   0,   0,   0,   0,   0,   0,   0,   0,   0],\n",
              "       [  0,   0,   0,   0,   0,   0,   0,   0,   0,   0,   0,   0,   0,   0,   0,   0,   0,   0,   0,   0,   0,   0,   0,   0,   0,   0,   0,   0],\n",
              "       [  0,   0,   0,   0,   0,   0,   0,   0,   0,   0,   0,   0,   0,   0,   0,   0,   0,   0,   0,   0,   0,   0,   0,   0,   0,   0,   0,   0],\n",
              "       [  0,   0,   0,   0,   0,   0,   0,   0,   0,   0,   0,   0,   0,   0,   0,   0,   0,   0,   0,   0,   0,   0,   0,   0,   0,   0,   0,   0],\n",
              "       [  0,   0,   0,   0,   0,   0,   0,   0, 127, 100, 156, 239, 224, 177, 213, 159,  70,  13,   0,   0,   0,   0,   0,   0,   0,   0,   0,   0],\n",
              "       [  0,   0,   0,   0,   0,   0,   0, 110, 250, 254, 254, 254, 254, 254, 254, 254, 254, 184,  10,   0,   0,   0,   0,   0,   0,   0,   0,   0],\n",
              "       [  0,   0,   0,   0,   0,   0,   0, 216, 254, 254, 254, 254, 254, 254, 254, 254, 254, 251,  54,   0,   0,   0,   0,   0,   0,   0,   0,   0],\n",
              "       [  0,   0,   0,   0,   0,   0,   0,   3, 131, 197,  68, 137, 101,  83,  41,  70, 221, 254, 108,   0,   0,   0,   0,   0,   0,   0,   0,   0],\n",
              "       [  0,   0,   0,   0,   0,   0,   0,   0,   0,   0,   0,   0,   0,   0,   0,   0,  58, 254, 216,  11,   0,   0,   0,   0,   0,   0,   0,   0],\n",
              "       [  0,   0,   0,   0,   0,   0,   0,   0,   0,   0,   0,   0,   0,   0,   0,   0, 110, 254, 254,  24,   0,   0,   0,   0,   0,   0,   0,   0],\n",
              "       [  0,   0,   0,   0,   0,   0,   0,   0,   0,   0,   0,   0,   0,   0,   4,  83, 247, 254, 192,  10,   0,   0,   0,   0,   0,   0,   0,   0],\n",
              "       [  0,   0,   0,   0,   0,   0,   0,   0,   0,   0,   0,   0,   0,  37, 124, 254, 254, 250,  47,   0,   0,   0,   0,   0,   0,   0,   0,   0],\n",
              "       [  0,   0,   0,   0,   0,   0,   0,   0,   0,   0,   0, 113, 178, 250, 254, 254, 254, 252, 178, 128,  50,   0,   0,   0,   0,   0,   0,   0],\n",
              "       [  0,   0,   0,   0,   0,   0,   0,   0,   0,   0,  69, 252, 254, 254, 254, 254, 254, 254, 254, 254, 153,   0,   0,   0,   0,   0,   0,   0],\n",
              "       [  0,   0,   0,   0,   0,   0,   0,   0,   0,   0, 141, 252, 254, 241, 241, 254, 247, 252, 254, 254, 153,   0,   0,   0,   0,   0,   0,   0],\n",
              "       [  0,   0,   0,   0,   0,   0,   0,   0,   0,   0,   0,  68,  82,   5,   5,  82,  37,  65, 167, 254, 190,   0,   0,   0,   0,   0,   0,   0],\n",
              "       [  0,   0,   0,   0,   0,   0,   0,   0,   0,   0,   0,   0,   0,   0,   0,   0,   0,   0, 162, 254, 153,   0,   0,   0,   0,   0,   0,   0],\n",
              "       [  0,   0,   0,   0,   0,   0,   0,   0,   0,   0,   0,   0,   0,   0,   0,   0,   0,   1, 172, 253,  75,   0,   0,   0,   0,   0,   0,   0],\n",
              "       [  0,   0,   0,   0,   0,   0,   0,   0,   0,   0,   0,   0,   0,   0,   0,   0,   0, 102, 254, 152,   0,   0,   0,   0,   0,   0,   0,   0],\n",
              "       [  0,   0,   0,   0,   0,   0,   0,   0,   0,   0,   0,   0,   0,   0,   0,   0,  38, 230, 216,  20,   0,   0,   0,   0,   0,   0,   0,   0],\n",
              "       [  0,   0,   0,   0,   0,   0,   0,   0,   0,   0,   0,   0,   0,   0,   1,  71, 222, 254, 142,   0,   0,   0,   0,   0,   0,   0,   0,   0],\n",
              "       [  0,   0,   0,   0,   0,   0,   0,   0,   0,   0,   0,   0,   0,   0,  66, 254, 254, 157,   0,   0,   0,   0,   0,   0,   0,   0,   0,   0],\n",
              "       [  0,   0,   0,   0,   0,   0,   0,   0,   4,  34,  34,  78, 161, 226, 249, 254, 154,   6,   0,   0,   0,   0,   0,   0,   0,   0,   0,   0],\n",
              "       [  0,   0,   0,   0,   0,   0,   0,  96, 184, 254, 254, 254, 254, 254, 249,  93,   5,   0,   0,   0,   0,   0,   0,   0,   0,   0,   0,   0],\n",
              "       [  0,   0,   0,   0,   0,   0,   0,   0,   0,   0,   0,   0,   0,   0,   0,   0,   0,   0,   0,   0,   0,   0,   0,   0,   0,   0,   0,   0],\n",
              "       [  0,   0,   0,   0,   0,   0,   0,   0,   0,   0,   0,   0,   0,   0,   0,   0,   0,   0,   0,   0,   0,   0,   0,   0,   0,   0,   0,   0]], dtype=uint8)"
            ],
            "text/html": [
              "<style>\n",
              "      .ndarray_repr .ndarray_raw_data {\n",
              "        display: none;\n",
              "      }\n",
              "      .ndarray_repr.show_array .ndarray_raw_data {\n",
              "        display: block;\n",
              "      }\n",
              "      .ndarray_repr.show_array .ndarray_image_preview {\n",
              "        display: none;\n",
              "      }\n",
              "      </style>\n",
              "      <div id=\"id-0e1a925e-6633-4237-91d5-088033bff332\" class=\"ndarray_repr\"><pre>ndarray (28, 28) <button style=\"padding: 0 2px;\">show data</button></pre><img src=\"data:image/png;base64,iVBORw0KGgoAAAANSUhEUgAAABwAAAAcCAAAAABXZoBIAAAA1ElEQVR4nGNgGEqAEcaof2oR/PGiyqnlxz9jKMr79Q8KdnBhSN6Ayf37bQYXZILS2q3H3brTQ7U97jObYeiEA6t/N7jRdcKBCYMaLw59LMHf/x3AdBEDAwMDg2rNv3+/9LFKFW769e/fvz+bGoww5Vz/wHwzE9NBHgwMnz8z/PyH3UaXIFbWIFXH5f/24XAuAwPDImzGQgEj1/9NODWm/ZuBU07t2Q0RHFKM7vf+9eHS5/Tv31wswixKSn4LH/38N4sNUy5hx79///79+xnLitM1pAAACDhcuN3dt1kAAAAASUVORK5CYII=\" class=\"ndarray_image_preview\" /><pre class=\"ndarray_raw_data\">array([[  0,   0,   0,   0,   0,   0,   0,   0,   0,   0,   0,   0,   0,   0,   0,   0,   0,   0,   0,   0,   0,   0,   0,   0,   0,   0,   0,   0],\n",
              "       [  0,   0,   0,   0,   0,   0,   0,   0,   0,   0,   0,   0,   0,   0,   0,   0,   0,   0,   0,   0,   0,   0,   0,   0,   0,   0,   0,   0],\n",
              "       [  0,   0,   0,   0,   0,   0,   0,   0,   0,   0,   0,   0,   0,   0,   0,   0,   0,   0,   0,   0,   0,   0,   0,   0,   0,   0,   0,   0],\n",
              "       [  0,   0,   0,   0,   0,   0,   0,   0,   0,   0,   0,   0,   0,   0,   0,   0,   0,   0,   0,   0,   0,   0,   0,   0,   0,   0,   0,   0],\n",
              "       [  0,   0,   0,   0,   0,   0,   0,   0,   0,   0,   0,   0,   0,   0,   0,   0,   0,   0,   0,   0,   0,   0,   0,   0,   0,   0,   0,   0],\n",
              "       [  0,   0,   0,   0,   0,   0,   0,   0,   0,   0,   0,   0,   0,   0,   0,   0,   0,   0,   0,   0,   0,   0,   0,   0,   0,   0,   0,   0],\n",
              "       [  0,   0,   0,   0,   0,   0,   0,   0, 127, 100, 156, 239, 224, 177, 213, 159,  70,  13,   0,   0,   0,   0,   0,   0,   0,   0,   0,   0],\n",
              "       [  0,   0,   0,   0,   0,   0,   0, 110, 250, 254, 254, 254, 254, 254, 254, 254, 254, 184,  10,   0,   0,   0,   0,   0,   0,   0,   0,   0],\n",
              "       [  0,   0,   0,   0,   0,   0,   0, 216, 254, 254, 254, 254, 254, 254, 254, 254, 254, 251,  54,   0,   0,   0,   0,   0,   0,   0,   0,   0],\n",
              "       [  0,   0,   0,   0,   0,   0,   0,   3, 131, 197,  68, 137, 101,  83,  41,  70, 221, 254, 108,   0,   0,   0,   0,   0,   0,   0,   0,   0],\n",
              "       [  0,   0,   0,   0,   0,   0,   0,   0,   0,   0,   0,   0,   0,   0,   0,   0,  58, 254, 216,  11,   0,   0,   0,   0,   0,   0,   0,   0],\n",
              "       [  0,   0,   0,   0,   0,   0,   0,   0,   0,   0,   0,   0,   0,   0,   0,   0, 110, 254, 254,  24,   0,   0,   0,   0,   0,   0,   0,   0],\n",
              "       [  0,   0,   0,   0,   0,   0,   0,   0,   0,   0,   0,   0,   0,   0,   4,  83, 247, 254, 192,  10,   0,   0,   0,   0,   0,   0,   0,   0],\n",
              "       [  0,   0,   0,   0,   0,   0,   0,   0,   0,   0,   0,   0,   0,  37, 124, 254, 254, 250,  47,   0,   0,   0,   0,   0,   0,   0,   0,   0],\n",
              "       [  0,   0,   0,   0,   0,   0,   0,   0,   0,   0,   0, 113, 178, 250, 254, 254, 254, 252, 178, 128,  50,   0,   0,   0,   0,   0,   0,   0],\n",
              "       [  0,   0,   0,   0,   0,   0,   0,   0,   0,   0,  69, 252, 254, 254, 254, 254, 254, 254, 254, 254, 153,   0,   0,   0,   0,   0,   0,   0],\n",
              "       [  0,   0,   0,   0,   0,   0,   0,   0,   0,   0, 141, 252, 254, 241, 241, 254, 247, 252, 254, 254, 153,   0,   0,   0,   0,   0,   0,   0],\n",
              "       [  0,   0,   0,   0,   0,   0,   0,   0,   0,   0,   0,  68,  82,   5,   5,  82,  37,  65, 167, 254, 190,   0,   0,   0,   0,   0,   0,   0],\n",
              "       [  0,   0,   0,   0,   0,   0,   0,   0,   0,   0,   0,   0,   0,   0,   0,   0,   0,   0, 162, 254, 153,   0,   0,   0,   0,   0,   0,   0],\n",
              "       [  0,   0,   0,   0,   0,   0,   0,   0,   0,   0,   0,   0,   0,   0,   0,   0,   0,   1, 172, 253,  75,   0,   0,   0,   0,   0,   0,   0],\n",
              "       [  0,   0,   0,   0,   0,   0,   0,   0,   0,   0,   0,   0,   0,   0,   0,   0,   0, 102, 254, 152,   0,   0,   0,   0,   0,   0,   0,   0],\n",
              "       [  0,   0,   0,   0,   0,   0,   0,   0,   0,   0,   0,   0,   0,   0,   0,   0,  38, 230, 216,  20,   0,   0,   0,   0,   0,   0,   0,   0],\n",
              "       [  0,   0,   0,   0,   0,   0,   0,   0,   0,   0,   0,   0,   0,   0,   1,  71, 222, 254, 142,   0,   0,   0,   0,   0,   0,   0,   0,   0],\n",
              "       [  0,   0,   0,   0,   0,   0,   0,   0,   0,   0,   0,   0,   0,   0,  66, 254, 254, 157,   0,   0,   0,   0,   0,   0,   0,   0,   0,   0],\n",
              "       [  0,   0,   0,   0,   0,   0,   0,   0,   4,  34,  34,  78, 161, 226, 249, 254, 154,   6,   0,   0,   0,   0,   0,   0,   0,   0,   0,   0],\n",
              "       [  0,   0,   0,   0,   0,   0,   0,  96, 184, 254, 254, 254, 254, 254, 249,  93,   5,   0,   0,   0,   0,   0,   0,   0,   0,   0,   0,   0],\n",
              "       [  0,   0,   0,   0,   0,   0,   0,   0,   0,   0,   0,   0,   0,   0,   0,   0,   0,   0,   0,   0,   0,   0,   0,   0,   0,   0,   0,   0],\n",
              "       [  0,   0,   0,   0,   0,   0,   0,   0,   0,   0,   0,   0,   0,   0,   0,   0,   0,   0,   0,   0,   0,   0,   0,   0,   0,   0,   0,   0]], dtype=uint8)</pre></div><script>\n",
              "      (() => {\n",
              "      const titles = ['show data', 'hide data'];\n",
              "      let index = 0\n",
              "      document.querySelector('#id-0e1a925e-6633-4237-91d5-088033bff332 button').onclick = (e) => {\n",
              "        document.querySelector('#id-0e1a925e-6633-4237-91d5-088033bff332').classList.toggle('show_array');\n",
              "        index = (++index) % 2;\n",
              "        document.querySelector('#id-0e1a925e-6633-4237-91d5-088033bff332 button').textContent = titles[index];\n",
              "        e.preventDefault();\n",
              "        e.stopPropagation();\n",
              "      }\n",
              "      })();\n",
              "    </script>"
            ]
          },
          "metadata": {},
          "execution_count": 6
        }
      ]
    },
    {
      "cell_type": "markdown",
      "metadata": {
        "id": "LNJrJKUwvZMR"
      },
      "source": [
        "Alternatively, you can call `matplotlib.pyplot.imshow` to interpret the preceding numeric array as an image."
      ]
    },
    {
      "cell_type": "code",
      "metadata": {
        "id": "siRC8a1hJvmq",
        "colab": {
          "base_uri": "https://localhost:8080/",
          "height": 447
        },
        "outputId": "4d551cc7-d1c8-4be7-f09e-b0a9a905b8e4"
      },
      "source": [
        "# Use false colors to visualize the array.\n",
        "plt.imshow(x_train[2917])"
      ],
      "execution_count": 7,
      "outputs": [
        {
          "output_type": "execute_result",
          "data": {
            "text/plain": [
              "<matplotlib.image.AxesImage at 0x7a29c8159d80>"
            ]
          },
          "metadata": {},
          "execution_count": 7
        },
        {
          "output_type": "display_data",
          "data": {
            "text/plain": [
              "<Figure size 640x480 with 1 Axes>"
            ],
            "image/png": "[encoded data removed]"
          },
          "metadata": {}
        }
      ]
    },
    {
      "cell_type": "code",
      "metadata": {
        "id": "V-he9IcihDxb",
        "colab": {
          "base_uri": "https://localhost:8080/"
        },
        "outputId": "e19cb862-f7c6-4a54-f9d0-9985cf947cab"
      },
      "source": [
        "# Output row #10 of example #2917.\n",
        "x_train[2917][10]"
      ],
      "execution_count": 8,
      "outputs": [
        {
          "output_type": "execute_result",
          "data": {
            "text/plain": [
              "array([  0,   0,   0,   0,   0,   0,   0,   0,   0,   0,   0,   0,   0,   0,   0,   0,  58, 254, 216,  11,   0,   0,   0,   0,   0,   0,   0,   0], dtype=uint8)"
            ]
          },
          "metadata": {},
          "execution_count": 8
        }
      ]
    },
    {
      "cell_type": "code",
      "metadata": {
        "id": "DUEWipalhQ8J",
        "colab": {
          "base_uri": "https://localhost:8080/"
        },
        "outputId": "8186483c-c04c-4695-858f-5e67c9193e86"
      },
      "source": [
        "# Output pixel #16 of row #10 of example #2900.\n",
        "x_train[2900][10][16]"
      ],
      "execution_count": 9,
      "outputs": [
        {
          "output_type": "execute_result",
          "data": {
            "text/plain": [
              "0"
            ]
          },
          "metadata": {},
          "execution_count": 9
        }
      ]
    },
    {
      "cell_type": "markdown",
      "metadata": {
        "id": "8ldP-5z1B2vL"
      },
      "source": [
        "## Task 1: Normalize feature values\n",
        "\n",
        "Complete the following code cell to map each feature value from its current representation (an integer between 0 and 255) to a floating-point value between 0 and 1.0. Store the floating-point values in `x_train_normalized` and `x_test_normalized`."
      ]
    },
    {
      "cell_type": "code",
      "metadata": {
        "id": "4YQljE-wizDw",
        "colab": {
          "base_uri": "https://localhost:8080/"
        },
        "outputId": "8901b4af-a299-4cff-d510-acb5e61a284f"
      },
      "source": [
        "from sklearn.preprocessing import MinMaxScaler\n",
        "\n",
        "# Assuming x_train and x_test are your original data arrays with shape (samples, rows, cols)\n",
        "# Reshape the data to have 2 dimensions\n",
        "x_train_reshaped = x_train.reshape(x_train.shape[0], -1)\n",
        "x_test_reshaped = x_test.reshape(x_test.shape[0], -1)\n",
        "\n",
        "# Scale the data\n",
        "scaler = MinMaxScaler()\n",
        "x_train_normalized = scaler.fit_transform(x_train_reshaped)\n",
        "x_test_normalized = scaler.transform(x_test_reshaped)\n",
        "\n",
        "print(x_train_normalized[2900][10])  # Output a normalized row\n"
      ],
      "execution_count": 10,
      "outputs": [
        {
          "output_type": "stream",
          "name": "stdout",
          "text": [
            "0.0\n"
          ]
        }
      ]
    },
    {
      "cell_type": "code",
      "metadata": {
        "id": "g8HC-TDgB1D1",
        "colab": {
          "base_uri": "https://localhost:8080/"
        },
        "outputId": "815f50b6-88a6-4bdf-fc28-945df6e2c0be"
      },
      "source": [
        "#@title Double-click to see a solution to Task 1.\n",
        "\n",
        "x_train_normalized = x_train / 255.0\n",
        "x_test_normalized = x_test / 255.0\n",
        "print(x_train_normalized[2900][10]) # Output a normalized row"
      ],
      "execution_count": 11,
      "outputs": [
        {
          "output_type": "stream",
          "name": "stdout",
          "text": [
            "[0.         0.         0.         0.         0.         0.         0.         0.55294118 1.         0.66666667 0.11372549 0.         0.         0.         0.         0.         0.         0.\n",
            " 0.         0.         0.         0.         0.         0.         0.         0.         0.         0.        ]\n"
          ]
        }
      ]
    },
    {
      "cell_type": "markdown",
      "metadata": {
        "id": "ZBWRF6CStuNA"
      },
      "source": [
        "## Define a plotting function\n",
        "\n",
        "The following function plots an accuracy curve:"
      ]
    },
    {
      "cell_type": "code",
      "metadata": {
        "id": "QF0BFRXTOeR3",
        "colab": {
          "base_uri": "https://localhost:8080/"
        },
        "outputId": "3eb2b72e-6631-478c-dad9-cbc1bdf51515"
      },
      "source": [
        "#@title Define the plotting function\n",
        "def plot_curve(epochs, hist, list_of_metrics):\n",
        "  \"\"\"Plot a curve of one or more classification metrics vs. epoch.\"\"\"\n",
        "  # list_of_metrics should be one of the names shown in:\n",
        "  # https://www.tensorflow.org/tutorials/structured_data/imbalanced_data#define_the_model_and_metrics\n",
        "\n",
        "  plt.figure()\n",
        "  plt.xlabel(\"Epoch\")\n",
        "  plt.ylabel(\"Value\")\n",
        "\n",
        "  for m in list_of_metrics:\n",
        "    x = hist[m]\n",
        "    plt.plot(epochs[1:], x[1:], label=m)\n",
        "\n",
        "  plt.legend()\n",
        "\n",
        "print(\"Loaded the plot_curve function.\")"
      ],
      "execution_count": 12,
      "outputs": [
        {
          "output_type": "stream",
          "name": "stdout",
          "text": [
            "Loaded the plot_curve function.\n"
          ]
        }
      ]
    },
    {
      "cell_type": "markdown",
      "metadata": {
        "id": "3014ezH3C7jT"
      },
      "source": [
        "## Create a deep neural net model\n",
        "\n",
        "The `create_model` function defines the topography of the deep neural net, specifying the following:\n",
        "\n",
        "* The number of [layers](https://developers.google.com/machine-learning/glossary/#layer) in the deep neural net.\n",
        "* The number of [nodes](https://developers.google.com/machine-learning/glossary/#node) in each layer.\n",
        "* Any [regularization](https://developers.google.com/machine-learning/glossary/#regularization) layers.\n",
        "\n",
        "The `create_model` function also defines the [activation function](https://developers.google.com/machine-learning/glossary/#activation_function) of each layer.  The activation function of the output layer is [softmax](https://developers.google.com/machine-learning/glossary/#softmax), which will yield 10 different outputs for each example. Each of the 10 outputs provides the probability that the input example is a certain digit.\n",
        "\n",
        "**Note:** Unlike several of the recent Colabs, this exercise does not define feature columns or a feature layer.  Instead, the model will train on the NumPy array."
      ]
    },
    {
      "cell_type": "code",
      "metadata": {
        "id": "pedD5GhlDC-y",
        "cellView": "both"
      },
      "source": [
        "def create_model(my_learning_rate):\n",
        "  \"\"\"Create and compile a deep neural net.\"\"\"\n",
        "\n",
        "  # All models in this course are sequential.\n",
        "  model = tf.keras.models.Sequential()\n",
        "\n",
        "  # The features are stored in a two-dimensional 28X28 array.\n",
        "  # Flatten that two-dimensional array into a one-dimensional\n",
        "  # 784-element array.\n",
        "  model.add(tf.keras.layers.Flatten(input_shape=(28, 28)))\n",
        "\n",
        "  # Define the first hidden layer.\n",
        "  model.add(tf.keras.layers.Dense(units=32, activation='relu'))\n",
        "\n",
        "  # Define a dropout regularization layer.\n",
        "  model.add(tf.keras.layers.Dropout(rate=0.2))\n",
        "\n",
        "  # Define the output layer. The units parameter is set to 10 because\n",
        "  # the model must choose among 10 possible output values (representing\n",
        "  # the digits from 0 to 9, inclusive).\n",
        "  #\n",
        "  # Don't change this layer.\n",
        "  model.add(tf.keras.layers.Dense(units=10, activation='softmax'))\n",
        "\n",
        "  # Construct the layers into a model that TensorFlow can execute.\n",
        "  # Notice that the loss function for multi-class classification\n",
        "  # is different than the loss function for binary classification.\n",
        "  model.compile(optimizer=tf.keras.optimizers.Adam(learning_rate=my_learning_rate),\n",
        "                loss=\"sparse_categorical_crossentropy\",\n",
        "                metrics=['accuracy'])\n",
        "\n",
        "  return model\n",
        "\n",
        "\n",
        "def train_model(model, train_features, train_label, epochs,\n",
        "                batch_size=None, validation_split=0.1):\n",
        "  \"\"\"Train the model by feeding it data.\"\"\"\n",
        "\n",
        "  history = model.fit(x=train_features, y=train_label, batch_size=batch_size,\n",
        "                      epochs=epochs, shuffle=True,\n",
        "                      validation_split=validation_split)\n",
        "\n",
        "  # To track the progression of training, gather a snapshot\n",
        "  # of the model's metrics at each epoch.\n",
        "  epochs = history.epoch\n",
        "  hist = pd.DataFrame(history.history)\n",
        "\n",
        "  return epochs, hist"
      ],
      "execution_count": 13,
      "outputs": []
    },
    {
      "cell_type": "markdown",
      "metadata": {
        "id": "D-IXYVfvM4gD"
      },
      "source": [
        "## Invoke the previous functions\n",
        "\n",
        "Run the following code cell to invoke the preceding functions and actually train the model on the training set.\n",
        "\n",
        "**Note:** Due to several factors (for example, more examples and a more complex neural network) training MNIST might take longer than training the California Housing Dataset."
      ]
    },
    {
      "cell_type": "code",
      "metadata": {
        "id": "nj3v5EKQFY8s",
        "cellView": "both",
        "colab": {
          "base_uri": "https://localhost:8080/",
          "height": 1000
        },
        "outputId": "5a891eeb-ceb5-4950-a334-e748790f37ad"
      },
      "source": [
        "# The following variables are the hyperparameters.\n",
        "learning_rate = 0.003\n",
        "epochs = 50\n",
        "batch_size = 4000\n",
        "validation_split = 0.2\n",
        "\n",
        "# Establish the model's topography.\n",
        "my_model = create_model(learning_rate)\n",
        "\n",
        "# Train the model on the normalized training set.\n",
        "epochs, hist = train_model(my_model, x_train_normalized, y_train,\n",
        "                           epochs, batch_size, validation_split)\n",
        "\n",
        "# Plot a graph of the metric vs. epochs.\n",
        "list_of_metrics_to_plot = ['accuracy']\n",
        "plot_curve(epochs, hist, list_of_metrics_to_plot)\n",
        "\n",
        "# Evaluate against the test set.\n",
        "print(\"\\n Evaluate the new model against the test set:\")\n",
        "my_model.evaluate(x=x_test_normalized, y=y_test, batch_size=batch_size)"
      ],
      "execution_count": 14,
      "outputs": [
        {
          "output_type": "stream",
          "name": "stdout",
          "text": [
            "Epoch 1/50\n",
            "12/12 [==============================] - 6s 101ms/step - loss: 1.6096 - accuracy: 0.5110 - val_loss: 0.8551 - val_accuracy: 0.8043\n",
            "Epoch 2/50\n",
            "12/12 [==============================] - 0s 33ms/step - loss: 0.8342 - accuracy: 0.7490 - val_loss: 0.5134 - val_accuracy: 0.8663\n",
            "Epoch 3/50\n",
            "12/12 [==============================] - 0s 25ms/step - loss: 0.6125 - accuracy: 0.8189 - val_loss: 0.4067 - val_accuracy: 0.8907\n",
            "Epoch 4/50\n",
            "12/12 [==============================] - 0s 24ms/step - loss: 0.5190 - accuracy: 0.8470 - val_loss: 0.3543 - val_accuracy: 0.9040\n",
            "Epoch 5/50\n",
            "12/12 [==============================] - 0s 32ms/step - loss: 0.4634 - accuracy: 0.8622 - val_loss: 0.3201 - val_accuracy: 0.9138\n",
            "Epoch 6/50\n",
            "12/12 [==============================] - 0s 30ms/step - loss: 0.4286 - accuracy: 0.8747 - val_loss: 0.2985 - val_accuracy: 0.9189\n",
            "Epoch 7/50\n",
            "12/12 [==============================] - 1s 52ms/step - loss: 0.4000 - accuracy: 0.8832 - val_loss: 0.2806 - val_accuracy: 0.9233\n",
            "Epoch 8/50\n",
            "12/12 [==============================] - 0s 26ms/step - loss: 0.3791 - accuracy: 0.8871 - val_loss: 0.2664 - val_accuracy: 0.9259\n",
            "Epoch 9/50\n",
            "12/12 [==============================] - 0s 24ms/step - loss: 0.3609 - accuracy: 0.8956 - val_loss: 0.2545 - val_accuracy: 0.9300\n",
            "Epoch 10/50\n",
            "12/12 [==============================] - 0s 18ms/step - loss: 0.3450 - accuracy: 0.8999 - val_loss: 0.2433 - val_accuracy: 0.9327\n",
            "Epoch 11/50\n",
            "12/12 [==============================] - 0s 19ms/step - loss: 0.3354 - accuracy: 0.9029 - val_loss: 0.2348 - val_accuracy: 0.9346\n",
            "Epoch 12/50\n",
            "12/12 [==============================] - 0s 18ms/step - loss: 0.3202 - accuracy: 0.9076 - val_loss: 0.2274 - val_accuracy: 0.9362\n",
            "Epoch 13/50\n",
            "12/12 [==============================] - 0s 25ms/step - loss: 0.3076 - accuracy: 0.9108 - val_loss: 0.2189 - val_accuracy: 0.9391\n",
            "Epoch 14/50\n",
            "12/12 [==============================] - 0s 30ms/step - loss: 0.3020 - accuracy: 0.9127 - val_loss: 0.2140 - val_accuracy: 0.9402\n",
            "Epoch 15/50\n",
            "12/12 [==============================] - 0s 33ms/step - loss: 0.2925 - accuracy: 0.9147 - val_loss: 0.2061 - val_accuracy: 0.9430\n",
            "Epoch 16/50\n",
            "12/12 [==============================] - 0s 23ms/step - loss: 0.2820 - accuracy: 0.9188 - val_loss: 0.2011 - val_accuracy: 0.9431\n",
            "Epoch 17/50\n",
            "12/12 [==============================] - 0s 18ms/step - loss: 0.2769 - accuracy: 0.9183 - val_loss: 0.1959 - val_accuracy: 0.9448\n",
            "Epoch 18/50\n",
            "12/12 [==============================] - 0s 23ms/step - loss: 0.2717 - accuracy: 0.9207 - val_loss: 0.1920 - val_accuracy: 0.9448\n",
            "Epoch 19/50\n",
            "12/12 [==============================] - 0s 21ms/step - loss: 0.2682 - accuracy: 0.9223 - val_loss: 0.1882 - val_accuracy: 0.9472\n",
            "Epoch 20/50\n",
            "12/12 [==============================] - 0s 30ms/step - loss: 0.2612 - accuracy: 0.9237 - val_loss: 0.1844 - val_accuracy: 0.9477\n",
            "Epoch 21/50\n",
            "12/12 [==============================] - 0s 18ms/step - loss: 0.2567 - accuracy: 0.9244 - val_loss: 0.1815 - val_accuracy: 0.9484\n",
            "Epoch 22/50\n",
            "12/12 [==============================] - 0s 18ms/step - loss: 0.2489 - accuracy: 0.9268 - val_loss: 0.1778 - val_accuracy: 0.9492\n",
            "Epoch 23/50\n",
            "12/12 [==============================] - 0s 18ms/step - loss: 0.2460 - accuracy: 0.9284 - val_loss: 0.1741 - val_accuracy: 0.9510\n",
            "Epoch 24/50\n",
            "12/12 [==============================] - 0s 21ms/step - loss: 0.2424 - accuracy: 0.9287 - val_loss: 0.1722 - val_accuracy: 0.9517\n",
            "Epoch 25/50\n",
            "12/12 [==============================] - 0s 12ms/step - loss: 0.2395 - accuracy: 0.9295 - val_loss: 0.1702 - val_accuracy: 0.9520\n",
            "Epoch 26/50\n",
            "12/12 [==============================] - 0s 11ms/step - loss: 0.2358 - accuracy: 0.9310 - val_loss: 0.1676 - val_accuracy: 0.9528\n",
            "Epoch 27/50\n",
            "12/12 [==============================] - 0s 19ms/step - loss: 0.2322 - accuracy: 0.9315 - val_loss: 0.1649 - val_accuracy: 0.9535\n",
            "Epoch 28/50\n",
            "12/12 [==============================] - 0s 12ms/step - loss: 0.2283 - accuracy: 0.9332 - val_loss: 0.1638 - val_accuracy: 0.9541\n",
            "Epoch 29/50\n",
            "12/12 [==============================] - 0s 16ms/step - loss: 0.2235 - accuracy: 0.9339 - val_loss: 0.1606 - val_accuracy: 0.9541\n",
            "Epoch 30/50\n",
            "12/12 [==============================] - 0s 11ms/step - loss: 0.2202 - accuracy: 0.9360 - val_loss: 0.1588 - val_accuracy: 0.9544\n",
            "Epoch 31/50\n",
            "12/12 [==============================] - 0s 12ms/step - loss: 0.2190 - accuracy: 0.9343 - val_loss: 0.1571 - val_accuracy: 0.9547\n",
            "Epoch 32/50\n",
            "12/12 [==============================] - 0s 16ms/step - loss: 0.2168 - accuracy: 0.9363 - val_loss: 0.1553 - val_accuracy: 0.9550\n",
            "Epoch 33/50\n",
            "12/12 [==============================] - 0s 12ms/step - loss: 0.2137 - accuracy: 0.9362 - val_loss: 0.1550 - val_accuracy: 0.9559\n",
            "Epoch 34/50\n",
            "12/12 [==============================] - 0s 11ms/step - loss: 0.2098 - accuracy: 0.9380 - val_loss: 0.1521 - val_accuracy: 0.9571\n",
            "Epoch 35/50\n",
            "12/12 [==============================] - 0s 16ms/step - loss: 0.2079 - accuracy: 0.9381 - val_loss: 0.1504 - val_accuracy: 0.9564\n",
            "Epoch 36/50\n",
            "12/12 [==============================] - 0s 13ms/step - loss: 0.2058 - accuracy: 0.9392 - val_loss: 0.1491 - val_accuracy: 0.9572\n",
            "Epoch 37/50\n",
            "12/12 [==============================] - 0s 12ms/step - loss: 0.2083 - accuracy: 0.9383 - val_loss: 0.1476 - val_accuracy: 0.9579\n",
            "Epoch 38/50\n",
            "12/12 [==============================] - 0s 12ms/step - loss: 0.2006 - accuracy: 0.9397 - val_loss: 0.1456 - val_accuracy: 0.9593\n",
            "Epoch 39/50\n",
            "12/12 [==============================] - 0s 11ms/step - loss: 0.1987 - accuracy: 0.9403 - val_loss: 0.1455 - val_accuracy: 0.9587\n",
            "Epoch 40/50\n",
            "12/12 [==============================] - 0s 11ms/step - loss: 0.1964 - accuracy: 0.9406 - val_loss: 0.1444 - val_accuracy: 0.9587\n",
            "Epoch 41/50\n",
            "12/12 [==============================] - 0s 11ms/step - loss: 0.1958 - accuracy: 0.9395 - val_loss: 0.1426 - val_accuracy: 0.9591\n",
            "Epoch 42/50\n",
            "12/12 [==============================] - 0s 13ms/step - loss: 0.1938 - accuracy: 0.9421 - val_loss: 0.1415 - val_accuracy: 0.9590\n",
            "Epoch 43/50\n",
            "12/12 [==============================] - 0s 15ms/step - loss: 0.1901 - accuracy: 0.9426 - val_loss: 0.1407 - val_accuracy: 0.9598\n",
            "Epoch 44/50\n",
            "12/12 [==============================] - 0s 11ms/step - loss: 0.1882 - accuracy: 0.9434 - val_loss: 0.1396 - val_accuracy: 0.9598\n",
            "Epoch 45/50\n",
            "12/12 [==============================] - 0s 15ms/step - loss: 0.1862 - accuracy: 0.9442 - val_loss: 0.1382 - val_accuracy: 0.9609\n",
            "Epoch 46/50\n",
            "12/12 [==============================] - 0s 12ms/step - loss: 0.1887 - accuracy: 0.9430 - val_loss: 0.1390 - val_accuracy: 0.9601\n",
            "Epoch 47/50\n",
            "12/12 [==============================] - 0s 12ms/step - loss: 0.1827 - accuracy: 0.9446 - val_loss: 0.1368 - val_accuracy: 0.9598\n",
            "Epoch 48/50\n",
            "12/12 [==============================] - 0s 12ms/step - loss: 0.1811 - accuracy: 0.9451 - val_loss: 0.1364 - val_accuracy: 0.9599\n",
            "Epoch 49/50\n",
            "12/12 [==============================] - 0s 12ms/step - loss: 0.1822 - accuracy: 0.9451 - val_loss: 0.1352 - val_accuracy: 0.9613\n",
            "Epoch 50/50\n",
            "12/12 [==============================] - 0s 10ms/step - loss: 0.1823 - accuracy: 0.9456 - val_loss: 0.1349 - val_accuracy: 0.9603\n",
            "\n",
            " Evaluate the new model against the test set:\n",
            "3/3 [==============================] - 0s 7ms/step - loss: 0.1406 - accuracy: 0.9574\n"
          ]
        },
        {
          "output_type": "execute_result",
          "data": {
            "text/plain": [
              "[0.14060592651367188, 0.9574000239372253]"
            ]
          },
          "metadata": {},
          "execution_count": 14
        },
        {
          "output_type": "display_data",
          "data": {
            "text/plain": [
              "<Figure size 640x480 with 1 Axes>"
            ],
            "image/png": "[encoded data removed]"
          },
          "metadata": {}
        }
      ]
    },
    {
      "cell_type": "markdown",
      "metadata": {
        "id": "Y5IKmk7D49_n"
      },
      "source": [
        "## Task 2: Optimize the model\n",
        "\n",
        "Experiment with the following:\n",
        "\n",
        "* number of hidden layers\n",
        "* number of nodes in each layer\n",
        "* dropout regularization rate\n",
        "\n",
        "What trends did you discover?  Can you reach at least 98% accuracy against the test set?\n",
        "\n",
        "\n"
      ]
    },
    {
      "cell_type": "code",
      "metadata": {
        "id": "wYG5qXpP5a9n"
      },
      "source": [
        "#@title Double-click to view some possible answers.\n",
        "\n",
        "# It would take much too long to experiment\n",
        "# fully with topography and dropout regularization\n",
        "# rate. In the real world, you would\n",
        "# also experiment with learning rate, batch size,\n",
        "# and number of epochs.  Since you only have a\n",
        "# few minutes, searching for trends can be helpful.\n",
        "# Here is what we discovered:\n",
        "#   * Adding more nodes (at least until 256 nodes)\n",
        "#     to the first hidden layer improved accuracy.\n",
        "#   * Adding a second hidden layer generally\n",
        "#     improved accuracy.\n",
        "#   * When the model contains a lot of nodes,\n",
        "#     the model overfits unless the dropout rate\n",
        "#     is at least 0.5.\n",
        "\n",
        "# We reached 98% test accuracy with the\n",
        "# following configuration:\n",
        "#   * One hidden layer of 256 nodes; no second\n",
        "#     hidden layer.\n",
        "#   * dropout regularization rate of 0.4\n",
        "\n",
        "# We reached 98.2% test accuracy with the\n",
        "# following configuration:\n",
        "#   * First hidden layer of 256 nodes;\n",
        "#     second hidden layer of 128 nodes.\n",
        "#   * dropout regularization rate of 0.2\n",
        "\n",
        "\n"
      ],
      "execution_count": null,
      "outputs": []
    },
    {
      "cell_type": "code",
      "source": [
        "from keras.datasets import mnist\n",
        "# load train and test data of mnist\n",
        "(train_x, train_y) , (test_x, test_y) = mnist.load_data()\n",
        "train_x = train_x.reshape(len(train_x),28,28,1)\n",
        "train_x = train_x.astype('float32')/255\n",
        "\n",
        "test_x = test_x.reshape(len(test_x),28,28,1)\n",
        "test_x = test_x.astype('float32')/255\n",
        "\n",
        "\n",
        "from keras.utils import to_categorical\n",
        "\n",
        "train_y = to_categorical(train_y)\n",
        "test_y = to_categorical(test_y)\n"
      ],
      "metadata": {
        "id": "aFesicEvyXD0"
      },
      "execution_count": 15,
      "outputs": []
    },
    {
      "cell_type": "code",
      "source": [
        "from keras import layers\n",
        "from keras import models\n",
        "def create_model_CNN(my_learning_rate):\n",
        "\n",
        "  model = models.Sequential()\n",
        "  # model using 2 layers, 2 maxpooling , flatten and dense\n",
        "  # fisrt layer\n",
        "  model.add(layers.Conv2D(32,(3,3), activation='relu',input_shape = (28,28,1)))\n",
        "  model.add(layers.MaxPooling2D((2,2)))\n",
        "  model.add(layers.Conv2D(64,(3,3), activation='relu'))\n",
        "  # second layer\n",
        "  model.add(layers.MaxPooling2D((2,2)))\n",
        "  model.add(layers.Conv2D(64,(3,3), activation='relu'))\n",
        "  model.add(layers.Flatten())\n",
        "  model.add(layers.Dense(64, activation ='relu'))\n",
        "  model.add(layers.Dense(10, activation ='softmax'))\n",
        "  model.summary()\n",
        "\n",
        "  model.compile(optimizer = 'rmsprop',loss = 'categorical_crossentropy', metrics = ['accuracy'])\n",
        "\n",
        "  return model\n",
        "\n",
        "\n",
        "def train_model_CNN(model, train_features, train_label, epochs,\n",
        "                batch_size):\n",
        "  \"\"\"Train the model by feeding it data.\"\"\"\n",
        "\n",
        "  history = model.fit(x=train_features, y=train_label, batch_size=batch_size,\n",
        "                      epochs=epochs)\n",
        "\n",
        "  # To track the progression of training, gather a snapshot\n",
        "  # of the model's metrics at each epoch.\n",
        "  epochs = history.epoch\n",
        "  hist = pd.DataFrame(history.history)\n",
        "\n",
        "  return epochs, hist"
      ],
      "metadata": {
        "id": "ACHvo_PGuSk7"
      },
      "execution_count": 16,
      "outputs": []
    },
    {
      "cell_type": "code",
      "source": [
        "# The following variables are the hyperparameters.\n",
        "learning_rate = 0.003\n",
        "epochs = 50\n",
        "batch_size = 64\n",
        "\n",
        "\n",
        "# Establish the model's topography.\n",
        "model_optimize_cnn = create_model_CNN(learning_rate)\n",
        "\n",
        "# Train the model on the normalized training set.\n",
        "epochs, hist = train_model_CNN(model_optimize_cnn, train_x, train_y, epochs, batch_size)\n",
        "\n",
        "# Plot a graph of the metric vs. epochs.\n",
        "list_of_metrics_to_plot = ['accuracy']\n",
        "plot_curve(epochs, hist, list_of_metrics_to_plot)\n",
        "\n",
        "# Evaluate against the test set.\n",
        "print(\"\\n Evaluate the new model against the test set:\")\n",
        "model_optimize_cnn.evaluate(x=test_x, y=test_y, batch_size=batch_size)"
      ],
      "metadata": {
        "colab": {
          "base_uri": "https://localhost:8080/",
          "height": 1000
        },
        "id": "CVOg4rjiux1c",
        "outputId": "47b9887c-90d5-43a5-b03a-af3259f6fef1"
      },
      "execution_count": 17,
      "outputs": [
        {
          "output_type": "stream",
          "name": "stdout",
          "text": [
            "Model: \"sequential_2\"\n",
            "_________________________________________________________________\n",
            " Layer (type)                Output Shape              Param #   \n",
            "=================================================================\n",
            " conv2d_3 (Conv2D)           (None, 26, 26, 32)        320       \n",
            "                                                                 \n",
            " max_pooling2d_2 (MaxPoolin  (None, 13, 13, 32)        0         \n",
            " g2D)                                                            \n",
            "                                                                 \n",
            " conv2d_4 (Conv2D)           (None, 11, 11, 64)        18496     \n",
            "                                                                 \n",
            " max_pooling2d_3 (MaxPoolin  (None, 5, 5, 64)          0         \n",
            " g2D)                                                            \n",
            "                                                                 \n",
            " conv2d_5 (Conv2D)           (None, 3, 3, 64)          36928     \n",
            "                                                                 \n",
            " flatten_2 (Flatten)         (None, 576)               0         \n",
            "                                                                 \n",
            " dense_4 (Dense)             (None, 64)                36928     \n",
            "                                                                 \n",
            " dense_5 (Dense)             (None, 10)                650       \n",
            "                                                                 \n",
            "=================================================================\n",
            "Total params: 93322 (364.54 KB)\n",
            "Trainable params: 93322 (364.54 KB)\n",
            "Non-trainable params: 0 (0.00 Byte)\n",
            "_________________________________________________________________\n",
            "Epoch 1/50\n",
            "938/938 [==============================] - 5s 4ms/step - loss: 0.1757 - accuracy: 0.9443\n",
            "Epoch 2/50\n",
            "938/938 [==============================] - 5s 5ms/step - loss: 0.0484 - accuracy: 0.9853\n",
            "Epoch 3/50\n",
            "938/938 [==============================] - 4s 4ms/step - loss: 0.0336 - accuracy: 0.9898\n",
            "Epoch 4/50\n",
            "938/938 [==============================] - 4s 4ms/step - loss: 0.0243 - accuracy: 0.9926\n",
            "Epoch 5/50\n",
            "938/938 [==============================] - 5s 5ms/step - loss: 0.0198 - accuracy: 0.9939\n",
            "Epoch 6/50\n",
            "938/938 [==============================] - 4s 4ms/step - loss: 0.0152 - accuracy: 0.9955\n",
            "Epoch 7/50\n",
            "938/938 [==============================] - 4s 4ms/step - loss: 0.0123 - accuracy: 0.9964\n",
            "Epoch 8/50\n",
            "938/938 [==============================] - 5s 5ms/step - loss: 0.0100 - accuracy: 0.9969\n",
            "Epoch 9/50\n",
            "938/938 [==============================] - 4s 4ms/step - loss: 0.0087 - accuracy: 0.9973\n",
            "Epoch 10/50\n",
            "938/938 [==============================] - 4s 4ms/step - loss: 0.0074 - accuracy: 0.9978\n",
            "Epoch 11/50\n",
            "938/938 [==============================] - 5s 5ms/step - loss: 0.0062 - accuracy: 0.9981\n",
            "Epoch 12/50\n",
            "938/938 [==============================] - 4s 4ms/step - loss: 0.0056 - accuracy: 0.9983\n",
            "Epoch 13/50\n",
            "938/938 [==============================] - 4s 4ms/step - loss: 0.0051 - accuracy: 0.9984\n",
            "Epoch 14/50\n",
            "938/938 [==============================] - 5s 5ms/step - loss: 0.0031 - accuracy: 0.9990\n",
            "Epoch 15/50\n",
            "938/938 [==============================] - 4s 4ms/step - loss: 0.0032 - accuracy: 0.9991\n",
            "Epoch 16/50\n",
            "938/938 [==============================] - 4s 4ms/step - loss: 0.0033 - accuracy: 0.9991\n",
            "Epoch 17/50\n",
            "938/938 [==============================] - 5s 5ms/step - loss: 0.0018 - accuracy: 0.9995\n",
            "Epoch 18/50\n",
            "938/938 [==============================] - 4s 4ms/step - loss: 0.0023 - accuracy: 0.9993\n",
            "Epoch 19/50\n",
            "938/938 [==============================] - 4s 4ms/step - loss: 0.0015 - accuracy: 0.9994\n",
            "Epoch 20/50\n",
            "938/938 [==============================] - 6s 7ms/step - loss: 0.0023 - accuracy: 0.9993\n",
            "Epoch 21/50\n",
            "938/938 [==============================] - 4s 4ms/step - loss: 0.0022 - accuracy: 0.9993\n",
            "Epoch 22/50\n",
            "938/938 [==============================] - 4s 4ms/step - loss: 0.0018 - accuracy: 0.9995\n",
            "Epoch 23/50\n",
            "938/938 [==============================] - 5s 5ms/step - loss: 0.0012 - accuracy: 0.9996\n",
            "Epoch 24/50\n",
            "938/938 [==============================] - 4s 4ms/step - loss: 0.0010 - accuracy: 0.9997\n",
            "Epoch 25/50\n",
            "938/938 [==============================] - 4s 4ms/step - loss: 0.0013 - accuracy: 0.9995\n",
            "Epoch 26/50\n",
            "938/938 [==============================] - 5s 5ms/step - loss: 5.2627e-04 - accuracy: 0.9998\n",
            "Epoch 27/50\n",
            "938/938 [==============================] - 4s 4ms/step - loss: 3.3626e-05 - accuracy: 1.0000\n",
            "Epoch 28/50\n",
            "938/938 [==============================] - 4s 4ms/step - loss: 1.5169e-04 - accuracy: 1.0000\n",
            "Epoch 29/50\n",
            "938/938 [==============================] - 5s 5ms/step - loss: 1.8079e-04 - accuracy: 1.0000\n",
            "Epoch 30/50\n",
            "938/938 [==============================] - 4s 4ms/step - loss: 0.0014 - accuracy: 0.9996\n",
            "Epoch 31/50\n",
            "938/938 [==============================] - 4s 5ms/step - loss: 4.1067e-04 - accuracy: 0.9999\n",
            "Epoch 32/50\n",
            "938/938 [==============================] - 5s 5ms/step - loss: 5.4841e-06 - accuracy: 1.0000\n",
            "Epoch 33/50\n",
            "938/938 [==============================] - 4s 4ms/step - loss: 3.2655e-07 - accuracy: 1.0000\n",
            "Epoch 34/50\n",
            "938/938 [==============================] - 4s 4ms/step - loss: 1.1471e-07 - accuracy: 1.0000\n",
            "Epoch 35/50\n",
            "938/938 [==============================] - 5s 5ms/step - loss: 1.0117e-07 - accuracy: 1.0000\n",
            "Epoch 36/50\n",
            "938/938 [==============================] - 4s 4ms/step - loss: 9.1708e-08 - accuracy: 1.0000\n",
            "Epoch 37/50\n",
            "938/938 [==============================] - 4s 4ms/step - loss: 8.4360e-08 - accuracy: 1.0000\n",
            "Epoch 38/50\n",
            "938/938 [==============================] - 5s 5ms/step - loss: 7.8459e-08 - accuracy: 1.0000\n",
            "Epoch 39/50\n",
            "938/938 [==============================] - 4s 4ms/step - loss: 7.3377e-08 - accuracy: 1.0000\n",
            "Epoch 40/50\n",
            "938/938 [==============================] - 4s 4ms/step - loss: 6.9255e-08 - accuracy: 1.0000\n",
            "Epoch 41/50\n",
            "938/938 [==============================] - 5s 5ms/step - loss: 6.5536e-08 - accuracy: 1.0000\n",
            "Epoch 42/50\n",
            "938/938 [==============================] - 4s 4ms/step - loss: 6.2305e-08 - accuracy: 1.0000\n",
            "Epoch 43/50\n",
            "938/938 [==============================] - 4s 4ms/step - loss: 5.9397e-08 - accuracy: 1.0000\n",
            "Epoch 44/50\n",
            "938/938 [==============================] - 5s 5ms/step - loss: 5.6830e-08 - accuracy: 1.0000\n",
            "Epoch 45/50\n",
            "938/938 [==============================] - 4s 4ms/step - loss: 5.4543e-08 - accuracy: 1.0000\n",
            "Epoch 46/50\n",
            "938/938 [==============================] - 4s 4ms/step - loss: 5.2441e-08 - accuracy: 1.0000\n",
            "Epoch 47/50\n",
            "938/938 [==============================] - 6s 6ms/step - loss: 5.0534e-08 - accuracy: 1.0000\n",
            "Epoch 48/50\n",
            "938/938 [==============================] - 4s 4ms/step - loss: 4.8734e-08 - accuracy: 1.0000\n",
            "Epoch 49/50\n",
            "938/938 [==============================] - 4s 4ms/step - loss: 4.7139e-08 - accuracy: 1.0000\n",
            "Epoch 50/50\n",
            "938/938 [==============================] - 5s 5ms/step - loss: 4.5657e-08 - accuracy: 1.0000\n",
            "\n",
            " Evaluate the new model against the test set:\n",
            "157/157 [==============================] - 1s 4ms/step - loss: 0.0747 - accuracy: 0.9924\n"
          ]
        },
        {
          "output_type": "execute_result",
          "data": {
            "text/plain": [
              "[0.07470130920410156, 0.9923999905586243]"
            ]
          },
          "metadata": {},
          "execution_count": 17
        },
        {
          "output_type": "display_data",
          "data": {
            "text/plain": [
              "<Figure size 640x480 with 1 Axes>"
            ],
            "image/png": "[encoded data removed]"
          },
          "metadata": {}
        }
      ]
    }
  ]
}